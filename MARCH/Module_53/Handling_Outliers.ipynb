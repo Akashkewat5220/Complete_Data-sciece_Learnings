{
 "cells": [
  {
   "cell_type": "raw",
   "id": "949d798b-ff18-4f84-ae82-65d2b6952a13",
   "metadata": {},
   "source": [
    " 5 Number Summary\n",
    "    Minimum value \n",
    "    Q1 - 25 percentile\n",
    "    Median\n",
    "    Q3 - 75 percentile\n",
    "    Maximum"
   ]
  },
  {
   "cell_type": "code",
   "execution_count": 9,
   "id": "226fe06e-6a33-437b-8b8f-b702c5681e37",
   "metadata": {},
   "outputs": [],
   "source": [
    "import numpy as np\n",
    "list_marks = [1,3,5,2,65,5,2,2,55,5,5,22,5000,588,2]"
   ]
  },
  {
   "cell_type": "code",
   "execution_count": 10,
   "id": "0a307d7d-312c-4c02-96ba-ce430b975c9f",
   "metadata": {},
   "outputs": [
    {
     "data": {
      "text/plain": [
       "array([2.])"
      ]
     },
     "execution_count": 10,
     "metadata": {},
     "output_type": "execute_result"
    }
   ],
   "source": [
    "np.percentile(list_marks , [25])"
   ]
  },
  {
   "cell_type": "code",
   "execution_count": 11,
   "id": "fb7badef-26b8-46a8-9ed5-932ef55a719e",
   "metadata": {},
   "outputs": [
    {
     "name": "stdout",
     "output_type": "stream",
     "text": [
      "[2.]\n"
     ]
    }
   ],
   "source": [
    "Q1 = np.percentile(list_marks , [25])\n",
    "print(Q1)"
   ]
  },
  {
   "cell_type": "code",
   "execution_count": 12,
   "id": "a4874f0a-07d7-424b-b767-3d1e16d847ab",
   "metadata": {},
   "outputs": [
    {
     "ename": "NameError",
     "evalue": "name 'first_marks' is not defined",
     "output_type": "error",
     "traceback": [
      "\u001b[0;31m---------------------------------------------------------------------------\u001b[0m",
      "\u001b[0;31mNameError\u001b[0m                                 Traceback (most recent call last)",
      "Cell \u001b[0;32mIn[12], line 1\u001b[0m\n\u001b[0;32m----> 1\u001b[0m minimum, Q1, median, Q3, maximum \u001b[38;5;241m=\u001b[39m np\u001b[38;5;241m.\u001b[39mquantile(\u001b[43mfirst_marks\u001b[49m, [\u001b[38;5;241m0\u001b[39m, \u001b[38;5;241m0.25\u001b[39m, \u001b[38;5;241m0.50\u001b[39m, \u001b[38;5;241m0.75\u001b[39m, \u001b[38;5;241m1.0\u001b[39m])\n",
      "\u001b[0;31mNameError\u001b[0m: name 'first_marks' is not defined"
     ]
    }
   ],
   "source": [
    "minimum, Q1, median, Q3, maximum = np.quantile(first_marks, [0, 0.25, 0.50, 0.75, 1.0])\n"
   ]
  },
  {
   "cell_type": "code",
   "execution_count": null,
   "id": "59685216-08ed-4355-b0df-67b1ab513440",
   "metadata": {},
   "outputs": [],
   "source": []
  },
  {
   "cell_type": "code",
   "execution_count": null,
   "id": "ae38c42a-faea-49c3-a7b7-4e3dd43cc21c",
   "metadata": {},
   "outputs": [],
   "source": []
  }
 ],
 "metadata": {
  "kernelspec": {
   "display_name": "Python 3 (ipykernel)",
   "language": "python",
   "name": "python3"
  },
  "language_info": {
   "codemirror_mode": {
    "name": "ipython",
    "version": 3
   },
   "file_extension": ".py",
   "mimetype": "text/x-python",
   "name": "python",
   "nbconvert_exporter": "python",
   "pygments_lexer": "ipython3",
   "version": "3.10.8"
  }
 },
 "nbformat": 4,
 "nbformat_minor": 5
}
