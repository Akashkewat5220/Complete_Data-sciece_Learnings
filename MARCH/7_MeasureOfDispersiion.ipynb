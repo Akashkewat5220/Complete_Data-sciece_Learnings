{
 "cells": [
  {
   "cell_type": "code",
   "execution_count": 1,
   "id": "016185ea-5c20-47cc-a7f0-5f93d90f6ea4",
   "metadata": {},
   "outputs": [],
   "source": [
    "# measure of dispersion"
   ]
  },
  {
   "cell_type": "code",
   "execution_count": 2,
   "id": "59b910c2-161e-40d2-92d4-fb1764587b75",
   "metadata": {},
   "outputs": [],
   "source": [
    "ages_lst = [23 , 23 , 54 , 64 , 45 , 76]"
   ]
  },
  {
   "cell_type": "code",
   "execution_count": 3,
   "id": "46adce8b-f1e5-4973-844a-b1d7bed0389f",
   "metadata": {},
   "outputs": [],
   "source": [
    "import numpy as np"
   ]
  },
  {
   "cell_type": "code",
   "execution_count": 4,
   "id": "06db2e4c-aee4-4513-90cd-b90c93b0216d",
   "metadata": {},
   "outputs": [
    {
     "data": {
      "text/plain": [
       "47.5"
      ]
     },
     "execution_count": 4,
     "metadata": {},
     "output_type": "execute_result"
    }
   ],
   "source": [
    "np.mean(ages_lst)"
   ]
  },
  {
   "cell_type": "code",
   "execution_count": 5,
   "id": "60bc2cba-e254-4ad7-aa47-1e419991898c",
   "metadata": {},
   "outputs": [
    {
     "data": {
      "text/plain": [
       "388.9166666666667"
      ]
     },
     "execution_count": 5,
     "metadata": {},
     "output_type": "execute_result"
    }
   ],
   "source": [
    "np.var(ages_lst)"
   ]
  },
  {
   "cell_type": "code",
   "execution_count": 6,
   "id": "4384294e-860e-4ca4-870c-da355f3cd271",
   "metadata": {},
   "outputs": [],
   "source": [
    "#std"
   ]
  },
  {
   "cell_type": "code",
   "execution_count": 7,
   "id": "9a4a708e-3f21-49db-8975-505b0031dc7d",
   "metadata": {},
   "outputs": [
    {
     "data": {
      "text/plain": [
       "19.72097022630141"
      ]
     },
     "execution_count": 7,
     "metadata": {},
     "output_type": "execute_result"
    }
   ],
   "source": [
    "np.std(ages_lst)"
   ]
  },
  {
   "cell_type": "code",
   "execution_count": 8,
   "id": "a95840a6-0b55-4f7d-9f1b-0b46b3c58c0f",
   "metadata": {},
   "outputs": [
    {
     "data": {
      "text/plain": [
       "<AxesSubplot: ylabel='Count'>"
      ]
     },
     "execution_count": 8,
     "metadata": {},
     "output_type": "execute_result"
    },
    {
     "data": {
      "image/png": "[encoded data removed]",
      "text/plain": [
       "<Figure size 640x480 with 1 Axes>"
      ]
     },
     "metadata": {},
     "output_type": "display_data"
    }
   ],
   "source": [
    "import seaborn as sns\n",
    "sns.histplot(ages_lst , kde = True)"
   ]
  },
  {
   "cell_type": "code",
   "execution_count": 9,
   "id": "f75cbfb9-1860-40b0-85f6-a70b4c15d31c",
   "metadata": {},
   "outputs": [],
   "source": [
    "import pandas as pd"
   ]
  },
  {
   "cell_type": "code",
   "execution_count": 10,
   "id": "938bdf3f-3685-4bb9-8a86-09c24daf6dc6",
   "metadata": {},
   "outputs": [
    {
     "data": {
      "text/plain": [
       "[[52, 41, 63], [87, 45, 12], [63, 21, 14]]"
      ]
     },
     "execution_count": 10,
     "metadata": {},
     "output_type": "execute_result"
    }
   ],
   "source": [
    "data = [[52,41,63] , [87,45,12] , [63,21,14]]\n",
    "data"
   ]
  },
  {
   "cell_type": "code",
   "execution_count": 11,
   "id": "2294953d-3296-4abd-9c82-7c0326a50ecd",
   "metadata": {},
   "outputs": [],
   "source": [
    "df = pd.DataFrame(data , columns = [\"A\" , \"B\" , \"C\"])"
   ]
  },
  {
   "cell_type": "code",
   "execution_count": 12,
   "id": "80428f66-3c04-4825-be86-9ce83f55d849",
   "metadata": {},
   "outputs": [
    {
     "data": {
      "text/html": [
       "<div>\n",
       "<style scoped>\n",
       "    .dataframe tbody tr th:only-of-type {\n",
       "        vertical-align: middle;\n",
       "    }\n",
       "\n",
       "    .dataframe tbody tr th {\n",
       "        vertical-align: top;\n",
       "    }\n",
       "\n",
       "    .dataframe thead th {\n",
       "        text-align: right;\n",
       "    }\n",
       "</style>\n",
       "<table border=\"1\" class=\"dataframe\">\n",
       "  <thead>\n",
       "    <tr style=\"text-align: right;\">\n",
       "      <th></th>\n",
       "      <th>A</th>\n",
       "      <th>B</th>\n",
       "      <th>C</th>\n",
       "    </tr>\n",
       "  </thead>\n",
       "  <tbody>\n",
       "    <tr>\n",
       "      <th>0</th>\n",
       "      <td>52</td>\n",
       "      <td>41</td>\n",
       "      <td>63</td>\n",
       "    </tr>\n",
       "    <tr>\n",
       "      <th>1</th>\n",
       "      <td>87</td>\n",
       "      <td>45</td>\n",
       "      <td>12</td>\n",
       "    </tr>\n",
       "    <tr>\n",
       "      <th>2</th>\n",
       "      <td>63</td>\n",
       "      <td>21</td>\n",
       "      <td>14</td>\n",
       "    </tr>\n",
       "  </tbody>\n",
       "</table>\n",
       "</div>"
      ],
      "text/plain": [
       "    A   B   C\n",
       "0  52  41  63\n",
       "1  87  45  12\n",
       "2  63  21  14"
      ]
     },
     "execution_count": 12,
     "metadata": {},
     "output_type": "execute_result"
    }
   ],
   "source": [
    "df.head()"
   ]
  },
  {
   "cell_type": "code",
   "execution_count": 13,
   "id": "8f5bc710-d9e3-43e2-ac0f-7fe743b80ee9",
   "metadata": {},
   "outputs": [
    {
     "data": {
      "text/plain": [
       "A    320.333333\n",
       "B    165.333333\n",
       "C    834.333333\n",
       "dtype: float64"
      ]
     },
     "execution_count": 13,
     "metadata": {},
     "output_type": "execute_result"
    }
   ],
   "source": [
    "df.var()"
   ]
  },
  {
   "cell_type": "code",
   "execution_count": 14,
   "id": "b456931c-b013-4649-9fc0-2150ab3de070",
   "metadata": {},
   "outputs": [
    {
     "data": {
      "text/plain": [
       "0     121.000000\n",
       "1    1413.000000\n",
       "2     702.333333\n",
       "dtype: float64"
      ]
     },
     "execution_count": 14,
     "metadata": {},
     "output_type": "execute_result"
    }
   ],
   "source": [
    "df.var(axis = 1)"
   ]
  },
  {
   "cell_type": "code",
   "execution_count": null,
   "id": "80b9cd84-90b5-48a9-a23c-840ef5790abd",
   "metadata": {},
   "outputs": [],
   "source": []
  }
 ],
 "metadata": {
  "kernelspec": {
   "display_name": "Python 3 (ipykernel)",
   "language": "python",
   "name": "python3"
  },
  "language_info": {
   "codemirror_mode": {
    "name": "ipython",
    "version": 3
   },
   "file_extension": ".py",
   "mimetype": "text/x-python",
   "name": "python",
   "nbconvert_exporter": "python",
   "pygments_lexer": "ipython3",
   "version": "3.10.8"
  }
 },
 "nbformat": 4,
 "nbformat_minor": 5
}
