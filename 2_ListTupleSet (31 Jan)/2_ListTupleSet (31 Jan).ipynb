{
 "cells": [
  {
   "cell_type": "code",
   "execution_count": 19,
   "id": "a133abdf-d8fc-48fa-9fa0-b83f4893d2c8",
   "metadata": {},
   "outputs": [],
   "source": [
    "l = [1,5,\"als\" , 5+2j , 67.4,True]"
   ]
  },
  {
   "cell_type": "code",
   "execution_count": 2,
   "id": "e073deed-35f8-4755-93c4-b99116de0ef8",
   "metadata": {},
   "outputs": [
    {
     "data": {
      "text/plain": [
       "list"
      ]
     },
     "execution_count": 2,
     "metadata": {},
     "output_type": "execute_result"
    }
   ],
   "source": [
    "type(l)"
   ]
  },
  {
   "cell_type": "code",
   "execution_count": 3,
   "id": "8159a56c-84c4-4f19-8f0a-0328012e8fcc",
   "metadata": {},
   "outputs": [
    {
     "data": {
      "text/plain": [
       "1"
      ]
     },
     "execution_count": 3,
     "metadata": {},
     "output_type": "execute_result"
    }
   ],
   "source": [
    "l[0]"
   ]
  },
  {
   "cell_type": "code",
   "execution_count": 6,
   "id": "cbcd06a3-734b-41ea-99fe-cd95eeaf1caf",
   "metadata": {},
   "outputs": [
    {
     "data": {
      "text/plain": [
       "(5+2j)"
      ]
     },
     "execution_count": 6,
     "metadata": {},
     "output_type": "execute_result"
    }
   ],
   "source": [
    "l[3]"
   ]
  },
  {
   "cell_type": "code",
   "execution_count": 7,
   "id": "7fb13e2b-48b9-4dec-9c0e-7db80aed2e26",
   "metadata": {},
   "outputs": [
    {
     "data": {
      "text/plain": [
       "[1, 5, 'als', (5+2j), 67.4]"
      ]
     },
     "execution_count": 7,
     "metadata": {},
     "output_type": "execute_result"
    }
   ],
   "source": [
    "l"
   ]
  },
  {
   "cell_type": "code",
   "execution_count": 8,
   "id": "7c9f2400-a7f0-4e93-b153-28f42b257e3e",
   "metadata": {},
   "outputs": [
    {
     "data": {
      "text/plain": [
       "[1, 5, 'als']"
      ]
     },
     "execution_count": 8,
     "metadata": {},
     "output_type": "execute_result"
    }
   ],
   "source": [
    "l[0:3]"
   ]
  },
  {
   "cell_type": "code",
   "execution_count": 9,
   "id": "ad50d8b5-9d45-42b8-8e71-d328190bdc69",
   "metadata": {},
   "outputs": [
    {
     "data": {
      "text/plain": [
       "67.4"
      ]
     },
     "execution_count": 9,
     "metadata": {},
     "output_type": "execute_result"
    }
   ],
   "source": [
    "l[-1]"
   ]
  },
  {
   "cell_type": "code",
   "execution_count": 10,
   "id": "e3003aec-528b-4f9f-b80e-cd6f839973f0",
   "metadata": {},
   "outputs": [
    {
     "data": {
      "text/plain": [
       "[67.4, (5+2j), 'als', 5, 1]"
      ]
     },
     "execution_count": 10,
     "metadata": {},
     "output_type": "execute_result"
    }
   ],
   "source": [
    "l[::-1]"
   ]
  },
  {
   "cell_type": "code",
   "execution_count": 12,
   "id": "18952d03-650a-4ce6-b94c-57003da9686d",
   "metadata": {},
   "outputs": [
    {
     "data": {
      "text/plain": [
       "[1, 'als', 67.4]"
      ]
     },
     "execution_count": 12,
     "metadata": {},
     "output_type": "execute_result"
    }
   ],
   "source": [
    "l[::2]"
   ]
  },
  {
   "cell_type": "code",
   "execution_count": 29,
   "id": "0f2615cc-c9e1-4a75-9980-ba828a3407b6",
   "metadata": {},
   "outputs": [],
   "source": [
    "s = \"pwskills\""
   ]
  },
  {
   "cell_type": "code",
   "execution_count": 30,
   "id": "8767267d-a3cb-4606-9508-cca788f0078a",
   "metadata": {},
   "outputs": [],
   "source": [
    "# //list not concatenate with string"
   ]
  },
  {
   "cell_type": "code",
   "execution_count": 31,
   "id": "4a74f3b2-baf0-4b30-ab69-4e2d6408f024",
   "metadata": {},
   "outputs": [
    {
     "data": {
      "text/plain": [
       "['p', 'w', 's', 'k', 'i', 'l', 'l', 's']"
      ]
     },
     "execution_count": 31,
     "metadata": {},
     "output_type": "execute_result"
    }
   ],
   "source": [
    "list(s)"
   ]
  },
  {
   "cell_type": "code",
   "execution_count": 32,
   "id": "5b98162a-3c25-4110-92be-4b03e084a1ff",
   "metadata": {},
   "outputs": [
    {
     "data": {
      "text/plain": [
       "[1, 5, 'als', (5+2j), 67.4, True, 5, 'pwdkills']"
      ]
     },
     "execution_count": 32,
     "metadata": {},
     "output_type": "execute_result"
    }
   ],
   "source": [
    "l"
   ]
  },
  {
   "cell_type": "code",
   "execution_count": 33,
   "id": "f20940a4-9e09-449a-beee-34268cd23804",
   "metadata": {},
   "outputs": [
    {
     "data": {
      "text/plain": [
       "'al'"
      ]
     },
     "execution_count": 33,
     "metadata": {},
     "output_type": "execute_result"
    }
   ],
   "source": [
    "l[2][0:2]"
   ]
  },
  {
   "cell_type": "code",
   "execution_count": 34,
   "id": "f8084807-f887-4951-9bf9-880eb8988c3e",
   "metadata": {},
   "outputs": [],
   "source": [
    "l1 = [2,5,8]"
   ]
  },
  {
   "cell_type": "code",
   "execution_count": 35,
   "id": "6bf27c45-d3d7-40b9-9666-6b7aaf90c078",
   "metadata": {},
   "outputs": [
    {
     "data": {
      "text/plain": [
       "[1, 5, 'als', (5+2j), 67.4, True, 5, 'pwdkills', 2, 5, 8]"
      ]
     },
     "execution_count": 35,
     "metadata": {},
     "output_type": "execute_result"
    }
   ],
   "source": [
    "l + l1"
   ]
  },
  {
   "cell_type": "code",
   "execution_count": 36,
   "id": "7a5484a7-e237-441f-aa14-e2e14d3f32a6",
   "metadata": {},
   "outputs": [
    {
     "data": {
      "text/plain": [
       "[2, 5, 8, 2, 5, 8, 2, 5, 8]"
      ]
     },
     "execution_count": 36,
     "metadata": {},
     "output_type": "execute_result"
    }
   ],
   "source": [
    "l1*3"
   ]
  },
  {
   "cell_type": "code",
   "execution_count": 37,
   "id": "d8f59152-aedb-46ae-aedd-7e1e68fcf2d9",
   "metadata": {},
   "outputs": [
    {
     "data": {
      "text/plain": [
       "8"
      ]
     },
     "execution_count": 37,
     "metadata": {},
     "output_type": "execute_result"
    }
   ],
   "source": [
    "len(l)"
   ]
  },
  {
   "cell_type": "code",
   "execution_count": 38,
   "id": "def24f6a-4877-456c-b63c-c168672de2aa",
   "metadata": {},
   "outputs": [],
   "source": [
    "l.append(5)"
   ]
  },
  {
   "cell_type": "code",
   "execution_count": 39,
   "id": "395ca816-f63d-42a8-9823-44d9c02704a6",
   "metadata": {},
   "outputs": [
    {
     "data": {
      "text/plain": [
       "[1, 5, 'als', (5+2j), 67.4, True, 5, 'pwdkills', 5]"
      ]
     },
     "execution_count": 39,
     "metadata": {},
     "output_type": "execute_result"
    }
   ],
   "source": [
    "l"
   ]
  },
  {
   "cell_type": "code",
   "execution_count": 40,
   "id": "ec7c9451-a80a-4cdc-8401-4eac6b9bd59c",
   "metadata": {},
   "outputs": [],
   "source": [
    "l.append(s)"
   ]
  },
  {
   "cell_type": "code",
   "execution_count": 41,
   "id": "dd472d30-b461-4447-b874-f0449a1a92ac",
   "metadata": {},
   "outputs": [
    {
     "data": {
      "text/plain": [
       "[1, 5, 'als', (5+2j), 67.4, True, 5, 'pwdkills', 5, 'pwskills']"
      ]
     },
     "execution_count": 41,
     "metadata": {},
     "output_type": "execute_result"
    }
   ],
   "source": [
    "l"
   ]
  },
  {
   "cell_type": "code",
   "execution_count": 42,
   "id": "b1e43796-3f27-4730-ada8-2f86ec00aa95",
   "metadata": {},
   "outputs": [],
   "source": [
    "l.append(l1)"
   ]
  },
  {
   "cell_type": "code",
   "execution_count": 43,
   "id": "62adc11d-d43d-45fd-8d47-11c990a5c66d",
   "metadata": {},
   "outputs": [
    {
     "data": {
      "text/plain": [
       "[1, 5, 'als', (5+2j), 67.4, True, 5, 'pwdkills', 5, 'pwskills', [2, 5, 8]]"
      ]
     },
     "execution_count": 43,
     "metadata": {},
     "output_type": "execute_result"
    }
   ],
   "source": [
    "l"
   ]
  },
  {
   "cell_type": "code",
   "execution_count": 45,
   "id": "9ddd6316-811f-4f84-a8c5-f0d51a17ede1",
   "metadata": {},
   "outputs": [
    {
     "data": {
      "text/plain": [
       "[1, 5, 'als', (5+2j), 67.4, True, 5, 'pwdkills', 5, 'pwskills', [2, 5, 8]]"
      ]
     },
     "execution_count": 45,
     "metadata": {},
     "output_type": "execute_result"
    }
   ],
   "source": [
    "l"
   ]
  },
  {
   "cell_type": "code",
   "execution_count": 46,
   "id": "956e26dd-54cc-46bf-a283-b954e9b0ec56",
   "metadata": {},
   "outputs": [],
   "source": [
    "l.extend(\"alas\")"
   ]
  },
  {
   "cell_type": "code",
   "execution_count": 47,
   "id": "239a1a7a-e2b3-405c-aaf7-1d5c61fbafa3",
   "metadata": {},
   "outputs": [
    {
     "data": {
      "text/plain": [
       "[1,\n",
       " 5,\n",
       " 'als',\n",
       " (5+2j),\n",
       " 67.4,\n",
       " True,\n",
       " 5,\n",
       " 'pwdkills',\n",
       " 5,\n",
       " 'pwskills',\n",
       " [2, 5, 8],\n",
       " 'a',\n",
       " 'l',\n",
       " 'a',\n",
       " 's']"
      ]
     },
     "execution_count": 47,
     "metadata": {},
     "output_type": "execute_result"
    }
   ],
   "source": [
    "l"
   ]
  },
  {
   "cell_type": "code",
   "execution_count": 48,
   "id": "29f61787-435f-49c2-86a9-bd70fdd0a333",
   "metadata": {},
   "outputs": [
    {
     "data": {
      "text/plain": [
       "[2, 5, 8]"
      ]
     },
     "execution_count": 48,
     "metadata": {},
     "output_type": "execute_result"
    }
   ],
   "source": [
    "l1"
   ]
  },
  {
   "cell_type": "code",
   "execution_count": 50,
   "id": "6cf1e873-14e5-478d-bfcf-4e4cd6a6a37a",
   "metadata": {},
   "outputs": [],
   "source": [
    "l1.insert(1 , \"Akash\") "
   ]
  },
  {
   "cell_type": "code",
   "execution_count": 51,
   "id": "18121276-bd18-4204-9f99-46954f22451f",
   "metadata": {},
   "outputs": [
    {
     "data": {
      "text/plain": [
       "[2, 'Akash', 5, 8]"
      ]
     },
     "execution_count": 51,
     "metadata": {},
     "output_type": "execute_result"
    }
   ],
   "source": [
    "l1"
   ]
  },
  {
   "cell_type": "code",
   "execution_count": 52,
   "id": "a52c3e14-5082-44c5-9f68-47db62c598a4",
   "metadata": {},
   "outputs": [],
   "source": [
    "l1.insert(-1 , 34)"
   ]
  },
  {
   "cell_type": "code",
   "execution_count": 53,
   "id": "d55b6795-dbf8-4063-84a4-33c1ec20202a",
   "metadata": {},
   "outputs": [
    {
     "data": {
      "text/plain": [
       "[2, 'Akash', 5, 34, 8]"
      ]
     },
     "execution_count": 53,
     "metadata": {},
     "output_type": "execute_result"
    }
   ],
   "source": [
    "l1"
   ]
  },
  {
   "cell_type": "code",
   "execution_count": 54,
   "id": "dbf74ae3-3e07-4a94-9b34-5df29113293e",
   "metadata": {},
   "outputs": [
    {
     "data": {
      "text/plain": [
       "8"
      ]
     },
     "execution_count": 54,
     "metadata": {},
     "output_type": "execute_result"
    }
   ],
   "source": [
    "l1.pop()"
   ]
  },
  {
   "cell_type": "code",
   "execution_count": 55,
   "id": "f4aed2fe-c06c-4092-b293-cc3bf2be370a",
   "metadata": {},
   "outputs": [
    {
     "data": {
      "text/plain": [
       "[2, 'Akash', 5, 34]"
      ]
     },
     "execution_count": 55,
     "metadata": {},
     "output_type": "execute_result"
    }
   ],
   "source": [
    "l1"
   ]
  },
  {
   "cell_type": "code",
   "execution_count": 56,
   "id": "ad8e3e49-f1d4-4284-bc4e-860fc788d9ca",
   "metadata": {},
   "outputs": [
    {
     "data": {
      "text/plain": [
       "5"
      ]
     },
     "execution_count": 56,
     "metadata": {},
     "output_type": "execute_result"
    }
   ],
   "source": [
    "l1.pop(2)"
   ]
  },
  {
   "cell_type": "code",
   "execution_count": 57,
   "id": "345903e6-4b61-4542-becf-2fbadcd848a9",
   "metadata": {},
   "outputs": [
    {
     "data": {
      "text/plain": [
       "[2, 'Akash', 34]"
      ]
     },
     "execution_count": 57,
     "metadata": {},
     "output_type": "execute_result"
    }
   ],
   "source": [
    "l1"
   ]
  },
  {
   "cell_type": "code",
   "execution_count": 58,
   "id": "c0368f1e-275a-4a0f-95dd-55e14862124c",
   "metadata": {},
   "outputs": [],
   "source": [
    "l1.remove(2)"
   ]
  },
  {
   "cell_type": "code",
   "execution_count": 59,
   "id": "add3a0cd-330e-4e72-b173-1c23155e8792",
   "metadata": {},
   "outputs": [
    {
     "data": {
      "text/plain": [
       "['Akash', 34]"
      ]
     },
     "execution_count": 59,
     "metadata": {},
     "output_type": "execute_result"
    }
   ],
   "source": [
    "l1"
   ]
  },
  {
   "cell_type": "code",
   "execution_count": 60,
   "id": "7c5ea91f-8f6a-4ffd-961b-6d8304637bcf",
   "metadata": {},
   "outputs": [],
   "source": [
    "s1 = [8,6,4]"
   ]
  },
  {
   "cell_type": "code",
   "execution_count": 61,
   "id": "a20180f9-94bb-4dff-97ef-8b29aef0dba1",
   "metadata": {},
   "outputs": [],
   "source": [
    "l1 = l1 + s1"
   ]
  },
  {
   "cell_type": "code",
   "execution_count": 62,
   "id": "80254ce8-d7f1-4e87-8216-0f669d8afcbe",
   "metadata": {},
   "outputs": [
    {
     "data": {
      "text/plain": [
       "['Akash', 34, 8, 6, 4]"
      ]
     },
     "execution_count": 62,
     "metadata": {},
     "output_type": "execute_result"
    }
   ],
   "source": [
    "l1"
   ]
  },
  {
   "cell_type": "code",
   "execution_count": 63,
   "id": "5f209453-bea7-4ea1-bde1-76e93555bbf2",
   "metadata": {},
   "outputs": [
    {
     "data": {
      "text/plain": [
       "['Akash', 34, 8, 6, 4]"
      ]
     },
     "execution_count": 63,
     "metadata": {},
     "output_type": "execute_result"
    }
   ],
   "source": [
    "l1"
   ]
  },
  {
   "cell_type": "code",
   "execution_count": 64,
   "id": "f5c5b556-6218-442d-a6b2-0f993d3524a4",
   "metadata": {},
   "outputs": [
    {
     "data": {
      "text/plain": [
       "[4, 6, 8, 34, 'Akash']"
      ]
     },
     "execution_count": 64,
     "metadata": {},
     "output_type": "execute_result"
    }
   ],
   "source": [
    "l1[::-1]"
   ]
  },
  {
   "cell_type": "code",
   "execution_count": 65,
   "id": "5f571b46-596f-4abf-bc88-4bdad587bc5a",
   "metadata": {},
   "outputs": [],
   "source": [
    "l1.reverse()"
   ]
  },
  {
   "cell_type": "code",
   "execution_count": 66,
   "id": "21dd45ad-51fb-4a33-b9ac-e0f6f583e389",
   "metadata": {},
   "outputs": [
    {
     "data": {
      "text/plain": [
       "[4, 6, 8, 34, 'Akash']"
      ]
     },
     "execution_count": 66,
     "metadata": {},
     "output_type": "execute_result"
    }
   ],
   "source": [
    "l1"
   ]
  },
  {
   "cell_type": "code",
   "execution_count": 75,
   "id": "69712eed-5f6b-431b-9120-59d1daaf0a20",
   "metadata": {},
   "outputs": [
    {
     "data": {
      "text/plain": [
       "[2, 5, 5, 5, 7, 9]"
      ]
     },
     "execution_count": 75,
     "metadata": {},
     "output_type": "execute_result"
    }
   ],
   "source": [
    "l1"
   ]
  },
  {
   "cell_type": "code",
   "execution_count": 76,
   "id": "8b57ca28-0d39-45d2-a9be-b40d4f179c23",
   "metadata": {},
   "outputs": [],
   "source": [
    "l2 = [5,9,7,5,2,5]"
   ]
  },
  {
   "cell_type": "code",
   "execution_count": 77,
   "id": "60862528-2194-46eb-9ee4-cdc305d0edcc",
   "metadata": {},
   "outputs": [],
   "source": [
    "l2.sort()"
   ]
  },
  {
   "cell_type": "code",
   "execution_count": 78,
   "id": "e38371bc-3777-4e09-b4ff-3aecd7742540",
   "metadata": {},
   "outputs": [
    {
     "data": {
      "text/plain": [
       "[2, 5, 5, 5, 7, 9]"
      ]
     },
     "execution_count": 78,
     "metadata": {},
     "output_type": "execute_result"
    }
   ],
   "source": [
    "l2"
   ]
  },
  {
   "cell_type": "code",
   "execution_count": 79,
   "id": "ac91da72-ae73-4d23-b1d3-da6cb5faa2ae",
   "metadata": {},
   "outputs": [],
   "source": [
    "l1.sort()"
   ]
  },
  {
   "cell_type": "code",
   "execution_count": 80,
   "id": "ad1d77c8-2755-4bcc-8da9-f049f3bc5fff",
   "metadata": {},
   "outputs": [
    {
     "data": {
      "text/plain": [
       "[2, 5, 5, 5, 7, 9]"
      ]
     },
     "execution_count": 80,
     "metadata": {},
     "output_type": "execute_result"
    }
   ],
   "source": [
    "l1"
   ]
  },
  {
   "cell_type": "code",
   "execution_count": 81,
   "id": "a0d07c91-55e3-4066-8ea1-8e579886fe1a",
   "metadata": {},
   "outputs": [],
   "source": [
    "l4 = [\"alas\" , \"happy\" , \"sad\"]"
   ]
  },
  {
   "cell_type": "code",
   "execution_count": 82,
   "id": "dfd61937-3664-4e3c-952a-e300d54584b7",
   "metadata": {},
   "outputs": [],
   "source": [
    "l4.sort()"
   ]
  },
  {
   "cell_type": "code",
   "execution_count": 83,
   "id": "e1a331cb-ca65-4bcc-ba69-98d735b1862a",
   "metadata": {},
   "outputs": [
    {
     "data": {
      "text/plain": [
       "['alas', 'happy', 'sad']"
      ]
     },
     "execution_count": 83,
     "metadata": {},
     "output_type": "execute_result"
    }
   ],
   "source": [
    "l4"
   ]
  },
  {
   "cell_type": "code",
   "execution_count": 84,
   "id": "a29a0c99-9230-41f3-b913-a2e7e24aeec9",
   "metadata": {},
   "outputs": [],
   "source": [
    "l4.sort(reverse = True)"
   ]
  },
  {
   "cell_type": "code",
   "execution_count": 85,
   "id": "c7302829-1aca-4af8-a9e4-cbf9d1465a84",
   "metadata": {},
   "outputs": [
    {
     "data": {
      "text/plain": [
       "['sad', 'happy', 'alas']"
      ]
     },
     "execution_count": 85,
     "metadata": {},
     "output_type": "execute_result"
    }
   ],
   "source": [
    "l4"
   ]
  },
  {
   "cell_type": "code",
   "execution_count": 86,
   "id": "bf145c87-ac25-4daa-b1c7-3096c57a5bb5",
   "metadata": {},
   "outputs": [
    {
     "data": {
      "text/plain": [
       "0"
      ]
     },
     "execution_count": 86,
     "metadata": {},
     "output_type": "execute_result"
    }
   ],
   "source": [
    "l4.index(\"sad\")"
   ]
  },
  {
   "cell_type": "code",
   "execution_count": 87,
   "id": "1bea421f-9c7d-46d7-94f2-b564398916d4",
   "metadata": {},
   "outputs": [
    {
     "data": {
      "text/plain": [
       "1"
      ]
     },
     "execution_count": 87,
     "metadata": {},
     "output_type": "execute_result"
    }
   ],
   "source": [
    "l4.count(\"sad\")"
   ]
  },
  {
   "cell_type": "code",
   "execution_count": 88,
   "id": "4f298052-7899-4a84-a249-f3242777e3ee",
   "metadata": {},
   "outputs": [],
   "source": [
    "s = \"singh\""
   ]
  },
  {
   "cell_type": "code",
   "execution_count": 89,
   "id": "66531867-20db-489b-9272-02d697d63004",
   "metadata": {},
   "outputs": [],
   "source": [
    "l5 = [5,8,6,45,4]"
   ]
  },
  {
   "cell_type": "code",
   "execution_count": 90,
   "id": "b9875b8f-4b60-4f8a-b31c-3e21e8b81658",
   "metadata": {},
   "outputs": [
    {
     "data": {
      "text/plain": [
       "[5, 8, 6, 45, 4]"
      ]
     },
     "execution_count": 90,
     "metadata": {},
     "output_type": "execute_result"
    }
   ],
   "source": [
    "l5"
   ]
  },
  {
   "cell_type": "code",
   "execution_count": 91,
   "id": "5a7b0aa1-0065-441e-a1b6-4779bb7f4515",
   "metadata": {},
   "outputs": [],
   "source": [
    "l5[0] = 30"
   ]
  },
  {
   "cell_type": "code",
   "execution_count": 92,
   "id": "739d33d0-d45f-45ef-8b17-352016e53dd2",
   "metadata": {},
   "outputs": [
    {
     "data": {
      "text/plain": [
       "[30, 8, 6, 45, 4]"
      ]
     },
     "execution_count": 92,
     "metadata": {},
     "output_type": "execute_result"
    }
   ],
   "source": [
    "l5"
   ]
  },
  {
   "cell_type": "code",
   "execution_count": 93,
   "id": "9ac302ee-02d9-45b8-8a8c-15c1baa053e0",
   "metadata": {},
   "outputs": [
    {
     "data": {
      "text/plain": [
       "'singh'"
      ]
     },
     "execution_count": 93,
     "metadata": {},
     "output_type": "execute_result"
    }
   ],
   "source": [
    "s"
   ]
  },
  {
   "cell_type": "code",
   "execution_count": 94,
   "id": "b032cb5f-d699-47ae-95f1-d63d1bba3651",
   "metadata": {},
   "outputs": [
    {
     "data": {
      "text/plain": [
       "'aingh'"
      ]
     },
     "execution_count": 94,
     "metadata": {},
     "output_type": "execute_result"
    }
   ],
   "source": [
    "s.replace('s' , 'a')"
   ]
  },
  {
   "cell_type": "code",
   "execution_count": 95,
   "id": "cb2c8ea4-f1cf-45e1-9f5c-35883bd38bdb",
   "metadata": {},
   "outputs": [
    {
     "data": {
      "text/plain": [
       "'singh'"
      ]
     },
     "execution_count": 95,
     "metadata": {},
     "output_type": "execute_result"
    }
   ],
   "source": [
    "s"
   ]
  },
  {
   "cell_type": "code",
   "execution_count": 96,
   "id": "b652d558-7f11-400f-b619-0f6dd2b75f93",
   "metadata": {},
   "outputs": [],
   "source": [
    "t = (8,5,5,6,5+7j , 90.77 , True , [2,5,2] , \"Happy\")"
   ]
  },
  {
   "cell_type": "code",
   "execution_count": 97,
   "id": "387e9079-ad77-4f6a-a506-c0b8dcbb1b02",
   "metadata": {},
   "outputs": [
    {
     "data": {
      "text/plain": [
       "(8, 5, 5, 6, (5+7j), 90.77, True, [2, 5, 2], 'Happy')"
      ]
     },
     "execution_count": 97,
     "metadata": {},
     "output_type": "execute_result"
    }
   ],
   "source": [
    "t"
   ]
  },
  {
   "cell_type": "code",
   "execution_count": 98,
   "id": "39adc7b4-1109-4ab9-a20d-4ba6d2a75383",
   "metadata": {},
   "outputs": [
    {
     "data": {
      "text/plain": [
       "9"
      ]
     },
     "execution_count": 98,
     "metadata": {},
     "output_type": "execute_result"
    }
   ],
   "source": [
    "len(t)"
   ]
  },
  {
   "cell_type": "code",
   "execution_count": 99,
   "id": "be7435d0-336a-4fc1-b697-a2ee194ff458",
   "metadata": {},
   "outputs": [
    {
     "data": {
      "text/plain": [
       "8"
      ]
     },
     "execution_count": 99,
     "metadata": {},
     "output_type": "execute_result"
    }
   ],
   "source": [
    "t[0]"
   ]
  },
  {
   "cell_type": "code",
   "execution_count": 100,
   "id": "8d3de044-3db4-4f33-9867-f35af514d92e",
   "metadata": {},
   "outputs": [
    {
     "data": {
      "text/plain": [
       "(5+7j)"
      ]
     },
     "execution_count": 100,
     "metadata": {},
     "output_type": "execute_result"
    }
   ],
   "source": [
    "t[-5]"
   ]
  },
  {
   "cell_type": "code",
   "execution_count": 101,
   "id": "8331283a-1efd-4c6b-b694-a62f9ca7cef3",
   "metadata": {},
   "outputs": [
    {
     "data": {
      "text/plain": [
       "('Happy', [2, 5, 2], True, 90.77, (5+7j), 6, 5, 5, 8)"
      ]
     },
     "execution_count": 101,
     "metadata": {},
     "output_type": "execute_result"
    }
   ],
   "source": [
    "t[::-1]"
   ]
  },
  {
   "cell_type": "code",
   "execution_count": 102,
   "id": "8fc38242-7b95-4e00-9fd0-26cdccf239ab",
   "metadata": {},
   "outputs": [
    {
     "data": {
      "text/plain": [
       "(8, 5, 5, 6, (5+7j), 90.77, True, [2, 5, 2], 'Happy')"
      ]
     },
     "execution_count": 102,
     "metadata": {},
     "output_type": "execute_result"
    }
   ],
   "source": [
    "t"
   ]
  },
  {
   "cell_type": "code",
   "execution_count": 104,
   "id": "99a8c2f4-6d3d-471e-a620-a5448eb6593f",
   "metadata": {},
   "outputs": [
    {
     "data": {
      "text/plain": [
       "8"
      ]
     },
     "execution_count": 104,
     "metadata": {},
     "output_type": "execute_result"
    }
   ],
   "source": [
    "t.index(\"Happy\")"
   ]
  },
  {
   "cell_type": "code",
   "execution_count": 105,
   "id": "06407866-dfb8-4be1-8ca6-791fbad8391c",
   "metadata": {},
   "outputs": [],
   "source": [
    "s1 = {}"
   ]
  },
  {
   "cell_type": "code",
   "execution_count": 106,
   "id": "c47f3f07-0219-47d2-b290-c6df1afa998d",
   "metadata": {},
   "outputs": [
    {
     "data": {
      "text/plain": [
       "dict"
      ]
     },
     "execution_count": 106,
     "metadata": {},
     "output_type": "execute_result"
    }
   ],
   "source": [
    "type(s1)"
   ]
  },
  {
   "cell_type": "code",
   "execution_count": 107,
   "id": "ae737855-5ab6-45f5-b3c3-3c2e2009635d",
   "metadata": {},
   "outputs": [],
   "source": [
    "s2 = {5,8,25,8}"
   ]
  },
  {
   "cell_type": "code",
   "execution_count": 109,
   "id": "b4ec2321-f47d-4062-920c-9299b9623a44",
   "metadata": {},
   "outputs": [
    {
     "data": {
      "text/plain": [
       "set"
      ]
     },
     "execution_count": 109,
     "metadata": {},
     "output_type": "execute_result"
    }
   ],
   "source": [
    "type(s2)"
   ]
  },
  {
   "cell_type": "code",
   "execution_count": 110,
   "id": "a7c42cab-32b5-4635-83a5-70757eacbfd2",
   "metadata": {},
   "outputs": [],
   "source": [
    "s4 = {8,8,8,8,5,5,5,52,2,2,6,6,68,8,}"
   ]
  },
  {
   "cell_type": "code",
   "execution_count": 111,
   "id": "74ccee7c-eb07-424c-88ff-21b3823715c3",
   "metadata": {},
   "outputs": [
    {
     "data": {
      "text/plain": [
       "{2, 5, 6, 8, 52, 68}"
      ]
     },
     "execution_count": 111,
     "metadata": {},
     "output_type": "execute_result"
    }
   ],
   "source": [
    "s4"
   ]
  },
  {
   "cell_type": "code",
   "execution_count": 112,
   "id": "7ed1f422-c4ab-4353-90b8-dbb75fef1567",
   "metadata": {},
   "outputs": [],
   "source": [
    "l6 = {8,8,8,8,5,5,5,52,2,2,6,6,68,8}"
   ]
  },
  {
   "cell_type": "code",
   "execution_count": 113,
   "id": "c4a26240-d4bb-4370-86b7-8df01c19ef5b",
   "metadata": {},
   "outputs": [],
   "source": [
    "l6 = list(set(l6))"
   ]
  },
  {
   "cell_type": "code",
   "execution_count": 114,
   "id": "0db8667e-5c48-4bbc-9047-c3dde5ccd042",
   "metadata": {},
   "outputs": [
    {
     "data": {
      "text/plain": [
       "[2, 68, 5, 6, 52, 8]"
      ]
     },
     "execution_count": 114,
     "metadata": {},
     "output_type": "execute_result"
    }
   ],
   "source": [
    "l6"
   ]
  },
  {
   "cell_type": "code",
   "execution_count": 115,
   "id": "6b030af1-ac28-4d0d-84bf-066f9c604417",
   "metadata": {},
   "outputs": [],
   "source": [
    "s4.add(96)"
   ]
  },
  {
   "cell_type": "code",
   "execution_count": 116,
   "id": "3076eaa8-46fe-4de2-86a1-69bf6cc9b328",
   "metadata": {},
   "outputs": [
    {
     "data": {
      "text/plain": [
       "{2, 5, 6, 8, 52, 68, 96}"
      ]
     },
     "execution_count": 116,
     "metadata": {},
     "output_type": "execute_result"
    }
   ],
   "source": [
    "s4"
   ]
  },
  {
   "cell_type": "code",
   "execution_count": null,
   "id": "b04f7198-8c55-4667-9c16-233de2997384",
   "metadata": {},
   "outputs": [],
   "source": [
    "s4.remove(8)"
   ]
  },
  {
   "cell_type": "code",
   "execution_count": null,
   "id": "ce07851e-c240-4200-b98b-9df7e11eaf6a",
   "metadata": {},
   "outputs": [],
   "source": []
  }
 ],
 "metadata": {
  "kernelspec": {
   "display_name": "Python 3 (ipykernel)",
   "language": "python",
   "name": "python3"
  },
  "language_info": {
   "codemirror_mode": {
    "name": "ipython",
    "version": 3
   },
   "file_extension": ".py",
   "mimetype": "text/x-python",
   "name": "python",
   "nbconvert_exporter": "python",
   "pygments_lexer": "ipython3",
   "version": "3.10.8"
  }
 },
 "nbformat": 4,
 "nbformat_minor": 5
}
