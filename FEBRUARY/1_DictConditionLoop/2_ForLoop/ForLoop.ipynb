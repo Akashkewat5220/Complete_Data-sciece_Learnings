{
 "cells": [
  {
   "cell_type": "code",
   "execution_count": 1,
   "id": "9fdb52a7-6bac-4991-a748-bc464b6c8dfc",
   "metadata": {},
   "outputs": [],
   "source": [
    "l = [78,5,5,25,5,65]"
   ]
  },
  {
   "cell_type": "code",
   "execution_count": 3,
   "id": "5b951695-4bdd-4468-9b21-d933e9de189a",
   "metadata": {},
   "outputs": [
    {
     "name": "stdout",
     "output_type": "stream",
     "text": [
      "78 <class 'int'>\n",
      "5 <class 'int'>\n",
      "5 <class 'int'>\n",
      "25 <class 'int'>\n",
      "5 <class 'int'>\n",
      "65 <class 'int'>\n"
     ]
    }
   ],
   "source": [
    "for i in l:\n",
    "    print(i , type(i))"
   ]
  },
  {
   "cell_type": "code",
   "execution_count": 4,
   "id": "718ba815-3b42-44c3-a55b-36dc1ba01933",
   "metadata": {},
   "outputs": [],
   "source": [
    "l1 = [\"alas\" , \"jordan\" , \"gappy\"]"
   ]
  },
  {
   "cell_type": "code",
   "execution_count": 5,
   "id": "5c3cb29c-38d2-42d9-b555-e93cf1450eb9",
   "metadata": {},
   "outputs": [
    {
     "name": "stdout",
     "output_type": "stream",
     "text": [
      "alas\n",
      "jordan\n",
      "gappy\n"
     ]
    }
   ],
   "source": [
    "for i in l1:\n",
    "    print(i)"
   ]
  },
  {
   "cell_type": "code",
   "execution_count": 6,
   "id": "e9128651-4c17-4bf1-847f-324615a11169",
   "metadata": {},
   "outputs": [
    {
     "data": {
      "text/plain": [
       "['alas', 'jordan', 'gappy']"
      ]
     },
     "execution_count": 6,
     "metadata": {},
     "output_type": "execute_result"
    }
   ],
   "source": [
    "l1"
   ]
  },
  {
   "cell_type": "code",
   "execution_count": 8,
   "id": "0545d952-7584-4d1e-9275-76ae43e5fafb",
   "metadata": {},
   "outputs": [
    {
     "name": "stdout",
     "output_type": "stream",
     "text": [
      "78 <class 'int'>\n",
      "5 <class 'int'>\n",
      "5 <class 'int'>\n",
      "25 <class 'int'>\n",
      "5 <class 'int'>\n",
      "65 <class 'int'>\n",
      "do anything\n"
     ]
    }
   ],
   "source": [
    "for i in l:\n",
    "    print(i)\n",
    "else:\n",
    "    \n",
    "    print(\"do anything\")"
   ]
  },
  {
   "cell_type": "code",
   "execution_count": 9,
   "id": "28a5e047-e811-4724-958d-1b52e757f33c",
   "metadata": {},
   "outputs": [
    {
     "data": {
      "text/plain": [
       "['alas', 'jordan', 'gappy']"
      ]
     },
     "execution_count": 9,
     "metadata": {},
     "output_type": "execute_result"
    }
   ],
   "source": [
    "l1"
   ]
  },
  {
   "cell_type": "code",
   "execution_count": 10,
   "id": "9641b1f1-41cd-4473-b37b-d7f56d94d644",
   "metadata": {},
   "outputs": [
    {
     "name": "stdout",
     "output_type": "stream",
     "text": [
      "alas\n"
     ]
    }
   ],
   "source": [
    "for i in l1:\n",
    "    if i == \"jordan\":\n",
    "        break\n",
    "    print(i)"
   ]
  },
  {
   "cell_type": "code",
   "execution_count": 11,
   "id": "1abc21c8-8189-42d2-aea3-c40573a43244",
   "metadata": {},
   "outputs": [
    {
     "data": {
      "text/plain": [
       "['alas', 'jordan', 'gappy']"
      ]
     },
     "execution_count": 11,
     "metadata": {},
     "output_type": "execute_result"
    }
   ],
   "source": [
    "l1"
   ]
  },
  {
   "cell_type": "code",
   "execution_count": 12,
   "id": "3143224a-e02c-484b-a573-de1cc6094574",
   "metadata": {},
   "outputs": [
    {
     "name": "stdout",
     "output_type": "stream",
     "text": [
      "alas\n"
     ]
    }
   ],
   "source": [
    "for i in l1:\n",
    "    if i == \"jordan\":\n",
    "        break\n",
    "    print(i)\n",
    "else:\n",
    "    print(\"execute after loop completion\")"
   ]
  },
  {
   "cell_type": "code",
   "execution_count": 13,
   "id": "60b27bfa-d4d5-44b1-a2a1-489ace5fefa3",
   "metadata": {},
   "outputs": [
    {
     "name": "stdout",
     "output_type": "stream",
     "text": [
      "alas\n",
      "gappy\n"
     ]
    }
   ],
   "source": [
    "for i in l1:\n",
    "    if i == \"jordan\":\n",
    "        continue\n",
    "    print(i)"
   ]
  },
  {
   "cell_type": "code",
   "execution_count": 14,
   "id": "dafa5920-ed99-49e1-9ecd-7fc1dc4cdbca",
   "metadata": {},
   "outputs": [
    {
     "name": "stdout",
     "output_type": "stream",
     "text": [
      "alas\n",
      "gappy\n",
      "execute after loop completion\n"
     ]
    }
   ],
   "source": [
    "for i in l1:\n",
    "    if i == \"jordan\":\n",
    "        continue\n",
    "    print(i)\n",
    "else:\n",
    "    print(\"execute after loop completion\")"
   ]
  },
  {
   "cell_type": "code",
   "execution_count": 15,
   "id": "fa0af6f8-da7d-4a18-87a5-274325ecb994",
   "metadata": {},
   "outputs": [],
   "source": [
    "# range function"
   ]
  },
  {
   "cell_type": "code",
   "execution_count": 17,
   "id": "da4e793a-f324-4a32-b1fe-25a91675064b",
   "metadata": {},
   "outputs": [
    {
     "data": {
      "text/plain": [
       "[0, 2, 4]"
      ]
     },
     "execution_count": 17,
     "metadata": {},
     "output_type": "execute_result"
    }
   ],
   "source": [
    "list(range(0 , 5 , 2))"
   ]
  },
  {
   "cell_type": "code",
   "execution_count": 18,
   "id": "e8bbf1e5-aa1c-415e-a013-838f29258188",
   "metadata": {},
   "outputs": [
    {
     "data": {
      "text/plain": [
       "[0, 4, 8, 12, 16]"
      ]
     },
     "execution_count": 18,
     "metadata": {},
     "output_type": "execute_result"
    }
   ],
   "source": [
    "list(range(0 , 20 , 4))"
   ]
  },
  {
   "cell_type": "code",
   "execution_count": 19,
   "id": "00fb48e4-e948-4bed-ab67-3c49a4e28cd3",
   "metadata": {},
   "outputs": [],
   "source": [
    "# for looop end to start"
   ]
  },
  {
   "cell_type": "code",
   "execution_count": 20,
   "id": "fe3c0f0e-260c-4a73-9c23-5afb184387d1",
   "metadata": {},
   "outputs": [
    {
     "data": {
      "text/plain": [
       "['alas', 'jordan', 'gappy']"
      ]
     },
     "execution_count": 20,
     "metadata": {},
     "output_type": "execute_result"
    }
   ],
   "source": [
    "l1"
   ]
  },
  {
   "cell_type": "code",
   "execution_count": 23,
   "id": "d4a15e23-9339-4d15-b060-e5fce0c2d465",
   "metadata": {},
   "outputs": [
    {
     "name": "stdout",
     "output_type": "stream",
     "text": [
      "0\n",
      "1\n",
      "2\n",
      "3\n"
     ]
    }
   ],
   "source": [
    "for i in range(0 , 4):\n",
    "    print (i)"
   ]
  },
  {
   "cell_type": "code",
   "execution_count": 24,
   "id": "cc5e64f9-ac16-4263-83a2-9dc92a8f4745",
   "metadata": {},
   "outputs": [],
   "source": [
    "# // reverse mei print out ke liye"
   ]
  },
  {
   "cell_type": "code",
   "execution_count": 26,
   "id": "a06d8c70-fbab-4f86-a1bf-dacc9c506936",
   "metadata": {},
   "outputs": [
    {
     "name": "stdout",
     "output_type": "stream",
     "text": [
      "gappy\n",
      "jordan\n",
      "alas\n"
     ]
    }
   ],
   "source": [
    "for i in range(len(l1)-1 , -1 , -1 ):\n",
    "    print(l1[i])"
   ]
  },
  {
   "cell_type": "code",
   "execution_count": 27,
   "id": "779758ff-1734-41ea-9a07-4352b37e9e3d",
   "metadata": {},
   "outputs": [],
   "source": [
    "l2 = [8,7,54,5,5,5,6,6,6,5]"
   ]
  },
  {
   "cell_type": "code",
   "execution_count": 32,
   "id": "08f3b3bf-3096-4842-a006-a017d72cfd37",
   "metadata": {},
   "outputs": [
    {
     "name": "stdout",
     "output_type": "stream",
     "text": [
      "0\n",
      "2\n",
      "4\n",
      "6\n",
      "8\n"
     ]
    }
   ],
   "source": [
    "for i in  range(0 , len(l2) , 2):\n",
    "    print(i)"
   ]
  },
  {
   "cell_type": "code",
   "execution_count": 33,
   "id": "4f1d8173-5ef1-4db0-9315-840d362c86cb",
   "metadata": {},
   "outputs": [
    {
     "data": {
      "text/plain": [
       "[78, 5, 5, 25, 5, 65]"
      ]
     },
     "execution_count": 33,
     "metadata": {},
     "output_type": "execute_result"
    }
   ],
   "source": [
    "l"
   ]
  },
  {
   "cell_type": "code",
   "execution_count": 34,
   "id": "97149ccc-9e64-432c-a0e5-2c53d06096e7",
   "metadata": {},
   "outputs": [
    {
     "data": {
      "text/plain": [
       "183"
      ]
     },
     "execution_count": 34,
     "metadata": {},
     "output_type": "execute_result"
    }
   ],
   "source": [
    "sum(l)"
   ]
  },
  {
   "cell_type": "code",
   "execution_count": 36,
   "id": "0317736d-adfe-4946-a898-14286a156048",
   "metadata": {},
   "outputs": [
    {
     "name": "stdout",
     "output_type": "stream",
     "text": [
      "183\n"
     ]
    }
   ],
   "source": [
    "result = 0;\n",
    "for i  in l:\n",
    "    result = result + i\n",
    "print(result)"
   ]
  },
  {
   "cell_type": "code",
   "execution_count": 37,
   "id": "4a4c7ad9-ae57-480f-a8e7-8f96a83a4196",
   "metadata": {},
   "outputs": [],
   "source": [
    "t = (5,8,25,2,2)"
   ]
  },
  {
   "cell_type": "code",
   "execution_count": 38,
   "id": "37e9eeaa-6067-4217-aab9-d6cf725acc0b",
   "metadata": {},
   "outputs": [
    {
     "data": {
      "text/plain": [
       "(5, 8, 25, 2, 2)"
      ]
     },
     "execution_count": 38,
     "metadata": {},
     "output_type": "execute_result"
    }
   ],
   "source": [
    "t\n"
   ]
  },
  {
   "cell_type": "code",
   "execution_count": 39,
   "id": "641c3d1a-f946-447d-bf91-982dce9b04b2",
   "metadata": {},
   "outputs": [
    {
     "name": "stdout",
     "output_type": "stream",
     "text": [
      "5\n",
      "8\n",
      "25\n",
      "2\n",
      "2\n"
     ]
    }
   ],
   "source": [
    "for i in t:\n",
    "    print (i)"
   ]
  },
  {
   "cell_type": "code",
   "execution_count": 40,
   "id": "a98f804e-203b-4375-8d40-ec575c2c7dd7",
   "metadata": {},
   "outputs": [],
   "source": [
    "d = {}"
   ]
  },
  {
   "cell_type": "code",
   "execution_count": 41,
   "id": "2f466796-0c77-4b27-af5b-bebe52adbfd1",
   "metadata": {},
   "outputs": [
    {
     "data": {
      "text/plain": [
       "dict"
      ]
     },
     "execution_count": 41,
     "metadata": {},
     "output_type": "execute_result"
    }
   ],
   "source": [
    "type(d)"
   ]
  },
  {
   "cell_type": "code",
   "execution_count": 42,
   "id": "5a98f21a-5a6e-44ef-9bad-4a2cdc688b21",
   "metadata": {},
   "outputs": [],
   "source": [
    "d = {\"name\" : \"alas\" , \"class\" : \"data science\" , \"course\" : \"PW\"}"
   ]
  },
  {
   "cell_type": "code",
   "execution_count": 43,
   "id": "01114046-3679-44de-8894-b45616a57690",
   "metadata": {},
   "outputs": [
    {
     "data": {
      "text/plain": [
       "{'name': 'alas', 'class': 'data science', 'course': 'PW'}"
      ]
     },
     "execution_count": 43,
     "metadata": {},
     "output_type": "execute_result"
    }
   ],
   "source": [
    "d"
   ]
  },
  {
   "cell_type": "code",
   "execution_count": null,
   "id": "c511e469-2ebe-416d-9e2c-b0312b7fb22d",
   "metadata": {},
   "outputs": [],
   "source": []
  }
 ],
 "metadata": {
  "kernelspec": {
   "display_name": "Python 3 (ipykernel)",
   "language": "python",
   "name": "python3"
  },
  "language_info": {
   "codemirror_mode": {
    "name": "ipython",
    "version": 3
   },
   "file_extension": ".py",
   "mimetype": "text/x-python",
   "name": "python",
   "nbconvert_exporter": "python",
   "pygments_lexer": "ipython3",
   "version": "3.10.8"
  }
 },
 "nbformat": 4,
 "nbformat_minor": 5
}
