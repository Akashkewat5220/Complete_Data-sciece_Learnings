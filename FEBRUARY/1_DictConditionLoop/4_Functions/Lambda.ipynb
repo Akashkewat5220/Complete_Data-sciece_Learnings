{
 "cells": [
  {
   "cell_type": "code",
   "execution_count": 1,
   "id": "faca36f5-2342-4cb3-aeeb-0b275bc00c1d",
   "metadata": {},
   "outputs": [],
   "source": [
    "n = 9\n",
    "p = 3"
   ]
  },
  {
   "cell_type": "code",
   "execution_count": 2,
   "id": "81e23e10-eba4-4664-8417-9c8bd985fa10",
   "metadata": {},
   "outputs": [],
   "source": [
    "def test(n , p):\n",
    "    return n**p"
   ]
  },
  {
   "cell_type": "code",
   "execution_count": 3,
   "id": "1a93400b-92ff-4591-bd4c-49ba89225603",
   "metadata": {},
   "outputs": [
    {
     "data": {
      "text/plain": [
       "9"
      ]
     },
     "execution_count": 3,
     "metadata": {},
     "output_type": "execute_result"
    }
   ],
   "source": [
    "test(3,2)"
   ]
  },
  {
   "cell_type": "code",
   "execution_count": 4,
   "id": "de78cac6-3ee1-4035-b93a-2441844ea62a",
   "metadata": {},
   "outputs": [],
   "source": [
    "a = lambda n  , p : n**p"
   ]
  },
  {
   "cell_type": "code",
   "execution_count": 5,
   "id": "bb8bb872-e7dc-4ff0-b2a7-4bdf0d404197",
   "metadata": {},
   "outputs": [
    {
     "data": {
      "text/plain": [
       "8"
      ]
     },
     "execution_count": 5,
     "metadata": {},
     "output_type": "execute_result"
    }
   ],
   "source": [
    "a(2,3)"
   ]
  },
  {
   "cell_type": "code",
   "execution_count": 6,
   "id": "4c6c83c2-fa4a-41ec-9b4c-de1d9fba2c53",
   "metadata": {},
   "outputs": [],
   "source": [
    "add = lambda x, y : x + y"
   ]
  },
  {
   "cell_type": "code",
   "execution_count": 7,
   "id": "25c24c16-e4a2-48f4-83bd-7ec35350e109",
   "metadata": {},
   "outputs": [
    {
     "data": {
      "text/plain": [
       "9"
      ]
     },
     "execution_count": 7,
     "metadata": {},
     "output_type": "execute_result"
    }
   ],
   "source": [
    "add(5 , 4)"
   ]
  },
  {
   "cell_type": "code",
   "execution_count": 8,
   "id": "a564e239-d422-4f7e-9b0e-4eec0ffc8367",
   "metadata": {},
   "outputs": [],
   "source": [
    "finding_max = lambda x , y : x if x > y else y"
   ]
  },
  {
   "cell_type": "code",
   "execution_count": 9,
   "id": "6b6cd8a1-5835-4420-9fe6-6b2dbd4f6550",
   "metadata": {},
   "outputs": [
    {
     "data": {
      "text/plain": [
       "9"
      ]
     },
     "execution_count": 9,
     "metadata": {},
     "output_type": "execute_result"
    }
   ],
   "source": [
    "finding_max(2 , 9)"
   ]
  },
  {
   "cell_type": "code",
   "execution_count": null,
   "id": "b618c029-4146-4fd8-851c-ab22903a8046",
   "metadata": {},
   "outputs": [],
   "source": []
  }
 ],
 "metadata": {
  "kernelspec": {
   "display_name": "Python 3 (ipykernel)",
   "language": "python",
   "name": "python3"
  },
  "language_info": {
   "codemirror_mode": {
    "name": "ipython",
    "version": 3
   },
   "file_extension": ".py",
   "mimetype": "text/x-python",
   "name": "python",
   "nbconvert_exporter": "python",
   "pygments_lexer": "ipython3",
   "version": "3.10.8"
  }
 },
 "nbformat": 4,
 "nbformat_minor": 5
}
