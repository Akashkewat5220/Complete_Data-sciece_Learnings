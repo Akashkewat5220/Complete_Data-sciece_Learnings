{
 "cells": [
  {
   "cell_type": "code",
   "execution_count": 1,
   "id": "7385aa32-2d5a-47af-9597-62a72de840ec",
   "metadata": {},
   "outputs": [
    {
     "name": "stdout",
     "output_type": "stream",
     "text": [
      "division by zero\n"
     ]
    }
   ],
   "source": [
    "try :\n",
    "    \n",
    "    a = 10 / 0 \n",
    "except ZeroDivisionError as e :\n",
    "    print(e)"
   ]
  },
  {
   "cell_type": "code",
   "execution_count": 2,
   "id": "9da3bda4-4edb-46fe-9525-74d3e2ab677a",
   "metadata": {},
   "outputs": [
    {
     "name": "stdout",
     "output_type": "stream",
     "text": [
      "invalid literal for int() with base 10: 'alas'\n"
     ]
    }
   ],
   "source": [
    "try :\n",
    "    int(\"alas\")\n",
    "except (ValueError , TypeError) as e :\n",
    "    print(e)"
   ]
  },
  {
   "cell_type": "code",
   "execution_count": 3,
   "id": "d4639d39-5907-4dc6-9408-397d84b9edd0",
   "metadata": {},
   "outputs": [
    {
     "name": "stdout",
     "output_type": "stream",
     "text": [
      "this will catch ans error\n"
     ]
    }
   ],
   "source": [
    "try :\n",
    "    int(\"als\")\n",
    "except :\n",
    "    print(\"this will catch ans error\")"
   ]
  },
  {
   "cell_type": "code",
   "execution_count": 4,
   "id": "76d78ffd-c434-4125-874f-949bbef0d10c",
   "metadata": {},
   "outputs": [
    {
     "name": "stdout",
     "output_type": "stream",
     "text": [
      "No module named 'alas'\n"
     ]
    }
   ],
   "source": [
    "try :\n",
    "    import alas\n",
    "except ImportError as e :\n",
    "    print (e)\n"
   ]
  },
  {
   "cell_type": "code",
   "execution_count": 7,
   "id": "b73f349c-d63b-4645-85b1-1de298d223af",
   "metadata": {},
   "outputs": [
    {
     "name": "stdout",
     "output_type": "stream",
     "text": [
      "'key2'\n"
     ]
    }
   ],
   "source": [
    "try :\n",
    "    d = {\"key\" : \"alas\" , 1 : [1,5,2,4]}\n",
    "    print(d[\"key2\"])\n",
    "except KeyError as e :\n",
    "    print(e)\n",
    "            "
   ]
  },
  {
   "cell_type": "code",
   "execution_count": null,
   "id": "c31b7bc8-7e96-4eb6-ba25-04cfb058efbd",
   "metadata": {},
   "outputs": [],
   "source": []
  }
 ],
 "metadata": {
  "kernelspec": {
   "display_name": "Python 3 (ipykernel)",
   "language": "python",
   "name": "python3"
  },
  "language_info": {
   "codemirror_mode": {
    "name": "ipython",
    "version": 3
   },
   "file_extension": ".py",
   "mimetype": "text/x-python",
   "name": "python",
   "nbconvert_exporter": "python",
   "pygments_lexer": "ipython3",
   "version": "3.10.8"
  }
 },
 "nbformat": 4,
 "nbformat_minor": 5
}
