{
 "cells": [
  {
   "cell_type": "code",
   "execution_count": 1,
   "id": "18109c3f-0ba3-49f9-8994-80083bfc0e4e",
   "metadata": {},
   "outputs": [],
   "source": [
    "a = 1 "
   ]
  },
  {
   "cell_type": "code",
   "execution_count": 2,
   "id": "e690988c-16af-4571-bb8c-ec4ec5e0bf9d",
   "metadata": {},
   "outputs": [
    {
     "name": "stdout",
     "output_type": "stream",
     "text": [
      "<class 'int'>\n"
     ]
    }
   ],
   "source": [
    "print(type(a))"
   ]
  },
  {
   "cell_type": "code",
   "execution_count": 3,
   "id": "e210f60e-c9cd-40b5-8434-883697975934",
   "metadata": {},
   "outputs": [
    {
     "name": "stdout",
     "output_type": "stream",
     "text": [
      "<class 'str'>\n"
     ]
    }
   ],
   "source": [
    "print(type(\"alas\"))"
   ]
  },
  {
   "cell_type": "code",
   "execution_count": 4,
   "id": "6616740e-d94b-4616-b880-59f791800c6e",
   "metadata": {},
   "outputs": [],
   "source": [
    "class  test:\n",
    "    pass"
   ]
  },
  {
   "cell_type": "code",
   "execution_count": 5,
   "id": "da7883e8-7ba6-474b-a12d-3c94f6cbe05f",
   "metadata": {},
   "outputs": [],
   "source": [
    "a = test()"
   ]
  },
  {
   "cell_type": "code",
   "execution_count": 6,
   "id": "525afca3-f1a0-41c9-8d55-53bcf680bbdc",
   "metadata": {},
   "outputs": [
    {
     "data": {
      "text/plain": [
       "__main__.test"
      ]
     },
     "execution_count": 6,
     "metadata": {},
     "output_type": "execute_result"
    }
   ],
   "source": [
    "type(a)"
   ]
  },
  {
   "cell_type": "code",
   "execution_count": 7,
   "id": "44b0f157-a43a-4773-85c2-6f2f71b1e807",
   "metadata": {},
   "outputs": [],
   "source": [
    "class pwskills:\n",
    "    \n",
    "    def welcome_msg(self):\n",
    "        print(\"Welcome to pwskills\")"
   ]
  },
  {
   "cell_type": "code",
   "execution_count": 8,
   "id": "84a2242e-7f44-47c3-bbff-0a7afd834590",
   "metadata": {},
   "outputs": [],
   "source": [
    "rohan = pwskills()"
   ]
  },
  {
   "cell_type": "code",
   "execution_count": 9,
   "id": "150d72c4-6c35-4c63-8ed3-784b04378340",
   "metadata": {},
   "outputs": [
    {
     "name": "stdout",
     "output_type": "stream",
     "text": [
      "<class '__main__.pwskills'>\n"
     ]
    }
   ],
   "source": [
    "print(type(rohan))"
   ]
  },
  {
   "cell_type": "code",
   "execution_count": 11,
   "id": "e62922c0-35d7-4e8b-8e58-0a6da85d8dc3",
   "metadata": {},
   "outputs": [
    {
     "name": "stdout",
     "output_type": "stream",
     "text": [
      "Welcome to pwskills\n"
     ]
    }
   ],
   "source": [
    "rohan.welcome_msg()"
   ]
  },
  {
   "cell_type": "code",
   "execution_count": 12,
   "id": "e0bde4d7-ee6e-4d81-98f1-30b704ea75d2",
   "metadata": {},
   "outputs": [],
   "source": [
    "gaurav = pwskills()"
   ]
  },
  {
   "cell_type": "code",
   "execution_count": 13,
   "id": "35aea44d-1a11-4197-a712-b6869c6ba1ca",
   "metadata": {},
   "outputs": [
    {
     "name": "stdout",
     "output_type": "stream",
     "text": [
      "Welcome to pwskills\n"
     ]
    }
   ],
   "source": [
    "gaurav.welcome_msg()"
   ]
  },
  {
   "cell_type": "code",
   "execution_count": 18,
   "id": "6f36dc78-3034-4e88-ba72-28420bb05ce3",
   "metadata": {},
   "outputs": [],
   "source": [
    "class pwskills1:\n",
    "    def __init__(self, phone_number, email_id, student_id):\n",
    "        self.phone_number = phone_number\n",
    "        self.email_id = email_id\n",
    "        self.student_id = student_id\n",
    "\n",
    "    def return_student_details(self):\n",
    "        return self.student_id, self.email_id, self.phone_number\n"
   ]
  },
  {
   "cell_type": "code",
   "execution_count": 19,
   "id": "7bbba551-d314-4516-9670-34d72d16f130",
   "metadata": {},
   "outputs": [],
   "source": [
    "rohan = pwskills1(45313 , \"rohan@gmail.com\" , 445)"
   ]
  },
  {
   "cell_type": "code",
   "execution_count": 20,
   "id": "f299d7df-3205-427a-932a-995412dd0260",
   "metadata": {},
   "outputs": [
    {
     "data": {
      "text/plain": [
       "45313"
      ]
     },
     "execution_count": 20,
     "metadata": {},
     "output_type": "execute_result"
    }
   ],
   "source": [
    "rohan.phone_number"
   ]
  },
  {
   "cell_type": "code",
   "execution_count": null,
   "id": "3d11a57f-3764-433a-8fb5-a0aa52a56110",
   "metadata": {},
   "outputs": [],
   "source": []
  }
 ],
 "metadata": {
  "kernelspec": {
   "display_name": "Python 3 (ipykernel)",
   "language": "python",
   "name": "python3"
  },
  "language_info": {
   "codemirror_mode": {
    "name": "ipython",
    "version": 3
   },
   "file_extension": ".py",
   "mimetype": "text/x-python",
   "name": "python",
   "nbconvert_exporter": "python",
   "pygments_lexer": "ipython3",
   "version": "3.10.8"
  }
 },
 "nbformat": 4,
 "nbformat_minor": 5
}
