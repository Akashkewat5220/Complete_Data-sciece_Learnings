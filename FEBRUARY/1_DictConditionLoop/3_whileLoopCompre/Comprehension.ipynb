{
 "cells": [
  {
   "cell_type": "code",
   "execution_count": 3,
   "id": "5e1b8053-081b-40eb-98f7-5ad84a4978e3",
   "metadata": {},
   "outputs": [],
   "source": [
    "l = [5,2,8,6,2]\n",
    "l1 = []\n",
    "for i in l:\n",
    "\n",
    "    l1.append(i*i)"
   ]
  },
  {
   "cell_type": "code",
   "execution_count": 4,
   "id": "0efcc308-dc74-4468-9237-ed42546de90e",
   "metadata": {},
   "outputs": [
    {
     "data": {
      "text/plain": [
       "[25, 4, 64, 36, 4]"
      ]
     },
     "execution_count": 4,
     "metadata": {},
     "output_type": "execute_result"
    }
   ],
   "source": [
    "l1"
   ]
  },
  {
   "cell_type": "code",
   "execution_count": 5,
   "id": "91e988d2-0970-4d1a-8d69-5b76f3c05c3a",
   "metadata": {},
   "outputs": [
    {
     "data": {
      "text/plain": [
       "[5, 2, 8, 6, 2]"
      ]
     },
     "execution_count": 5,
     "metadata": {},
     "output_type": "execute_result"
    }
   ],
   "source": [
    "l\n"
   ]
  },
  {
   "cell_type": "code",
   "execution_count": 7,
   "id": "13cedbd9-99dd-4704-99e9-fb2a9862bd41",
   "metadata": {},
   "outputs": [
    {
     "data": {
      "text/plain": [
       "[25, 4, 64, 36, 4]"
      ]
     },
     "execution_count": 7,
     "metadata": {},
     "output_type": "execute_result"
    }
   ],
   "source": [
    "[i**2 for i in l]"
   ]
  },
  {
   "cell_type": "code",
   "execution_count": 8,
   "id": "3b68d2a8-5e87-45f8-94c8-0af6d2386ce6",
   "metadata": {},
   "outputs": [
    {
     "data": {
      "text/plain": [
       "[2, 8, 6, 2]"
      ]
     },
     "execution_count": 8,
     "metadata": {},
     "output_type": "execute_result"
    }
   ],
   "source": [
    "[i for i in l if i % 2 == 0]"
   ]
  },
  {
   "cell_type": "code",
   "execution_count": 9,
   "id": "b7858000-b75f-449a-a554-4075a5e3926a",
   "metadata": {},
   "outputs": [],
   "source": [
    "l1 = [\"alas\" , \"pwskills\" , \"banda\"]"
   ]
  },
  {
   "cell_type": "code",
   "execution_count": 10,
   "id": "24ae0197-d512-4db3-b45d-1663366cef49",
   "metadata": {},
   "outputs": [
    {
     "data": {
      "text/plain": [
       "['ALAS', 'PWSKILLS', 'BANDA']"
      ]
     },
     "execution_count": 10,
     "metadata": {},
     "output_type": "execute_result"
    }
   ],
   "source": [
    "[i.upper() for i in l1]"
   ]
  },
  {
   "cell_type": "code",
   "execution_count": 11,
   "id": "e43d8b0a-e9e0-46ea-81bc-c2fae8cf2321",
   "metadata": {},
   "outputs": [],
   "source": [
    "# dict comprehension\n"
   ]
  },
  {
   "cell_type": "code",
   "execution_count": 12,
   "id": "5e76f9ed-58ad-4cec-9541-0b471fc48834",
   "metadata": {},
   "outputs": [
    {
     "data": {
      "text/plain": [
       "[5, 2, 8, 6, 2]"
      ]
     },
     "execution_count": 12,
     "metadata": {},
     "output_type": "execute_result"
    }
   ],
   "source": [
    "l"
   ]
  },
  {
   "cell_type": "code",
   "execution_count": 13,
   "id": "f10b455a-cae4-469b-a748-2088ed967bb7",
   "metadata": {},
   "outputs": [],
   "source": [
    "d = {}"
   ]
  },
  {
   "cell_type": "code",
   "execution_count": 14,
   "id": "a1421008-bfad-4765-ad11-3001fc55243f",
   "metadata": {},
   "outputs": [
    {
     "data": {
      "text/plain": [
       "dict"
      ]
     },
     "execution_count": 14,
     "metadata": {},
     "output_type": "execute_result"
    }
   ],
   "source": [
    "type(d)"
   ]
  },
  {
   "cell_type": "code",
   "execution_count": null,
   "id": "091bc1f4-3645-46d1-be96-c7677b20e9a2",
   "metadata": {},
   "outputs": [],
   "source": [
    "d = {\"key1\" : \"value1\"  , \"key2\"}"
   ]
  }
 ],
 "metadata": {
  "kernelspec": {
   "display_name": "Python 3 (ipykernel)",
   "language": "python",
   "name": "python3"
  },
  "language_info": {
   "codemirror_mode": {
    "name": "ipython",
    "version": 3
   },
   "file_extension": ".py",
   "mimetype": "text/x-python",
   "name": "python",
   "nbconvert_exporter": "python",
   "pygments_lexer": "ipython3",
   "version": "3.10.8"
  }
 },
 "nbformat": 4,
 "nbformat_minor": 5
}
