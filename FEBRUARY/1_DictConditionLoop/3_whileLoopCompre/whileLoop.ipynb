{
 "cells": [
  {
   "cell_type": "code",
   "execution_count": 1,
   "id": "a9e51fd7-b681-4010-bb4d-df4da7bef4cb",
   "metadata": {},
   "outputs": [
    {
     "name": "stdout",
     "output_type": "stream",
     "text": [
      "1\n",
      "2\n",
      "3\n",
      "4\n",
      "5\n",
      "6\n",
      "7\n",
      "8\n",
      "9\n",
      "10\n"
     ]
    }
   ],
   "source": [
    "a = 1\n",
    "\n",
    "while a <= 10 :\n",
    "    print(a)\n",
    "    a = a + 1"
   ]
  },
  {
   "cell_type": "code",
   "execution_count": 2,
   "id": "4dc3aa4a-4454-49c8-a4ed-087ac1cc5301",
   "metadata": {},
   "outputs": [],
   "source": [
    "# no. summing"
   ]
  },
  {
   "cell_type": "code",
   "execution_count": 8,
   "id": "933e4b48-f644-4062-beea-b8efab7db0b7",
   "metadata": {},
   "outputs": [
    {
     "name": "stdin",
     "output_type": "stream",
     "text": [
      "Enter your limit 2\n"
     ]
    },
    {
     "data": {
      "text/plain": [
       "3"
      ]
     },
     "execution_count": 8,
     "metadata": {},
     "output_type": "execute_result"
    }
   ],
   "source": [
    "n = int(input(\"Enter your limit\"))\n",
    "starting_point = 0\n",
    "counter = 1\n",
    "\n",
    "while(counter <= n):\n",
    "    starting_point += counter\n",
    "    counter = counter + 1\n",
    "starting_point"
   ]
  },
  {
   "cell_type": "code",
   "execution_count": 10,
   "id": "12d8d408-9053-4833-883e-1d55ec1483c0",
   "metadata": {},
   "outputs": [
    {
     "name": "stdin",
     "output_type": "stream",
     "text": [
      "Enter your number 2\n"
     ]
    },
    {
     "data": {
      "text/plain": [
       "2"
      ]
     },
     "execution_count": 10,
     "metadata": {},
     "output_type": "execute_result"
    }
   ],
   "source": [
    "number = int(input(\"Enter your number\"))\n",
    "factorial = 1\n",
    "while number > 0:\n",
    "             factorial = factorial * number\n",
    "             number = number - 1\n",
    "factorial"
   ]
  },
  {
   "cell_type": "code",
   "execution_count": 12,
   "id": "74ce2d85-3a28-4cf4-a702-bdbcd6215f6b",
   "metadata": {},
   "outputs": [],
   "source": [
    "# //fibbonaacci series"
   ]
  },
  {
   "cell_type": "code",
   "execution_count": 15,
   "id": "6209ed57-aab9-42c1-a078-5aee106ba1ec",
   "metadata": {},
   "outputs": [
    {
     "name": "stdin",
     "output_type": "stream",
     "text": [
      "Enter your number 5\n"
     ]
    },
    {
     "name": "stdout",
     "output_type": "stream",
     "text": [
      "0\n",
      "1\n",
      "1\n",
      "2\n",
      "3\n"
     ]
    }
   ],
   "source": [
    "n = int(input(\"Enter your number\"))\n",
    "a , b  = 0 , 1\n",
    "counter = 0\n",
    "while counter < n:\n",
    "    print(a)\n",
    "    c  = a + b\n",
    "    a  = b \n",
    "    b  = c\n",
    "    counter = counter + 1"
   ]
  },
  {
   "cell_type": "code",
   "execution_count": 16,
   "id": "1db3e82e-f182-41de-b535-b483380e43c7",
   "metadata": {},
   "outputs": [],
   "source": [
    "a = \"alas\""
   ]
  },
  {
   "cell_type": "code",
   "execution_count": 17,
   "id": "deaa21e0-d134-4643-bdd9-2e9500f7af1e",
   "metadata": {},
   "outputs": [
    {
     "data": {
      "text/plain": [
       "'sala'"
      ]
     },
     "execution_count": 17,
     "metadata": {},
     "output_type": "execute_result"
    }
   ],
   "source": [
    "a[::-1]"
   ]
  },
  {
   "cell_type": "code",
   "execution_count": 18,
   "id": "a83e26b3-3bc0-4968-adda-703fc18de450",
   "metadata": {},
   "outputs": [
    {
     "name": "stdin",
     "output_type": "stream",
     "text": [
      "Enter the word long\n"
     ]
    }
   ],
   "source": [
    "  word = input(\"Enter the word\")"
   ]
  },
  {
   "cell_type": "code",
   "execution_count": 19,
   "id": "1b43b805-4bf4-4fcd-ac43-f90a379d980d",
   "metadata": {},
   "outputs": [
    {
     "data": {
      "text/plain": [
       "' gnol'"
      ]
     },
     "execution_count": 19,
     "metadata": {},
     "output_type": "execute_result"
    }
   ],
   "source": [
    "reverse = \" \"\n",
    "length = len(word)\n",
    "while length > 0:\n",
    "    reverse = reverse + word[length -1]\n",
    "    length = length -1\n",
    "reverse"
   ]
  },
  {
   "cell_type": "code",
   "execution_count": 25,
   "id": "71a72bc9-417b-4bad-a4b4-bbf817e28f55",
   "metadata": {},
   "outputs": [
    {
     "name": "stdin",
     "output_type": "stream",
     "text": [
      "Enter the number 2\n"
     ]
    },
    {
     "name": "stdout",
     "output_type": "stream",
     "text": [
      "2 *  1  = 2\n",
      "2 *  2  = 4\n",
      "2 *  3  = 6\n",
      "2 *  4  = 8\n",
      "2 *  5  = 10\n",
      "2 *  6  = 12\n",
      "2 *  7  = 14\n",
      "2 *  8  = 16\n",
      "2 *  9  = 18\n",
      "2 *  10  = 20\n"
     ]
    }
   ],
   "source": [
    "n = int(input(\"Enter the number\"))\n",
    "i = 1\n",
    "\n",
    "while i <= 10:\n",
    "    result = n * i\n",
    "    print(n ,\"* \" ,i  ,\" =\" , result )\n",
    "    i = i + 1"
   ]
  },
  {
   "cell_type": "code",
   "execution_count": 26,
   "id": "eeea8a56-9676-4b8b-ad35-144e03216e2d",
   "metadata": {},
   "outputs": [
    {
     "name": "stdout",
     "output_type": "stream",
     "text": [
      "1\n",
      "2\n",
      "3\n",
      "4\n"
     ]
    }
   ],
   "source": [
    "n = 5\n",
    "i = 1 \n",
    "while n > i:\n",
    "    print(i)\n",
    "    i = i + 1"
   ]
  },
  {
   "cell_type": "code",
   "execution_count": null,
   "id": "13d31046-985a-4ea7-a7ed-eaa118bef695",
   "metadata": {},
   "outputs": [],
   "source": [
    "# break terminates the complete below code"
   ]
  }
 ],
 "metadata": {
  "kernelspec": {
   "display_name": "Python 3 (ipykernel)",
   "language": "python",
   "name": "python3"
  },
  "language_info": {
   "codemirror_mode": {
    "name": "ipython",
    "version": 3
   },
   "file_extension": ".py",
   "mimetype": "text/x-python",
   "name": "python",
   "nbconvert_exporter": "python",
   "pygments_lexer": "ipython3",
   "version": "3.10.8"
  }
 },
 "nbformat": 4,
 "nbformat_minor": 5
}
