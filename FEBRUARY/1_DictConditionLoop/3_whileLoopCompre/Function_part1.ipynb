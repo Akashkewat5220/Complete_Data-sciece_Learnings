{
 "cells": [
  {
   "cell_type": "code",
   "execution_count": 1,
   "id": "3a0dc1d1-07df-4b65-81d8-e343e9351e4d",
   "metadata": {},
   "outputs": [
    {
     "name": "stdout",
     "output_type": "stream",
     "text": [
      "this is function\n"
     ]
    }
   ],
   "source": [
    "print(\"this is function\")"
   ]
  },
  {
   "cell_type": "code",
   "execution_count": 2,
   "id": "7ddd2b58-9b38-462f-a5b2-dce5c7ecd43e",
   "metadata": {},
   "outputs": [],
   "source": [
    "l = [8,4,5,5,4]"
   ]
  },
  {
   "cell_type": "code",
   "execution_count": 3,
   "id": "42804c9a-ccfc-4b3c-b758-375ae6ee2372",
   "metadata": {},
   "outputs": [
    {
     "data": {
      "text/plain": [
       "5"
      ]
     },
     "execution_count": 3,
     "metadata": {},
     "output_type": "execute_result"
    }
   ],
   "source": [
    "len(l)"
   ]
  },
  {
   "cell_type": "code",
   "execution_count": 4,
   "id": "e4117196-ae16-493d-854e-91ebcd0fbdff",
   "metadata": {},
   "outputs": [],
   "source": [
    "def text():\n",
    "    pass"
   ]
  },
  {
   "cell_type": "code",
   "execution_count": 5,
   "id": "12c354fc-8e22-4379-a740-ddefc18aef06",
   "metadata": {},
   "outputs": [],
   "source": [
    "def text1():\n",
    "    print(\"This is my first function\")"
   ]
  },
  {
   "cell_type": "code",
   "execution_count": 7,
   "id": "6b34237a-8747-45f9-a8ba-8d06ce6c3e3f",
   "metadata": {},
   "outputs": [
    {
     "name": "stdout",
     "output_type": "stream",
     "text": [
      "This is my first function\n"
     ]
    }
   ],
   "source": [
    "text1()"
   ]
  },
  {
   "cell_type": "code",
   "execution_count": 8,
   "id": "50b13c61-3484-4e07-8b07-dee2bc2956de",
   "metadata": {},
   "outputs": [],
   "source": [
    "def test2():\n",
    "    return \"this is my first return\""
   ]
  },
  {
   "cell_type": "code",
   "execution_count": 9,
   "id": "56beb0a1-1394-4471-89df-4d10d17f168c",
   "metadata": {},
   "outputs": [],
   "source": [
    "def test3():\n",
    "    return \"happy\" , 57, 67"
   ]
  },
  {
   "cell_type": "code",
   "execution_count": 10,
   "id": "c4fff155-8666-4395-aa19-a89a34226cdf",
   "metadata": {},
   "outputs": [
    {
     "data": {
      "text/plain": [
       "('happy', 57, 67)"
      ]
     },
     "execution_count": 10,
     "metadata": {},
     "output_type": "execute_result"
    }
   ],
   "source": [
    "test3()"
   ]
  },
  {
   "cell_type": "code",
   "execution_count": 13,
   "id": "f14e9713-6aaf-440a-8c88-9d96b407fa3b",
   "metadata": {},
   "outputs": [],
   "source": [
    "def test5(a , b , c):\n",
    "    d = a + b + c\n",
    "    print (d)\n"
   ]
  },
  {
   "cell_type": "code",
   "execution_count": 15,
   "id": "ca75b19f-2fb9-4a4a-9af7-54c862a256db",
   "metadata": {},
   "outputs": [
    {
     "name": "stdout",
     "output_type": "stream",
     "text": [
      "19\n"
     ]
    }
   ],
   "source": [
    "test5(5,6,8)"
   ]
  },
  {
   "cell_type": "code",
   "execution_count": 2,
   "id": "4c3501ce-bc38-499d-963d-839e72b8467e",
   "metadata": {},
   "outputs": [],
   "source": [
    "l = [4,5,6, \"als\" , \"guly\" ,9.56]"
   ]
  },
  {
   "cell_type": "code",
   "execution_count": 3,
   "id": "df32d5e8-32ef-4de7-95a1-ecf0ae977e98",
   "metadata": {},
   "outputs": [
    {
     "data": {
      "text/plain": [
       "[4, 5, 6, 'als', 'guly', 9.56]"
      ]
     },
     "execution_count": 3,
     "metadata": {},
     "output_type": "execute_result"
    }
   ],
   "source": [
    "l"
   ]
  },
  {
   "cell_type": "code",
   "execution_count": 8,
   "id": "0a1c5d3d-de84-4ffd-9e04-2cb80cfdd551",
   "metadata": {},
   "outputs": [],
   "source": [
    "def test7():\n",
    "    l2= []\n",
    "    for i in l :\n",
    "        if type(i) == int:\n",
    "          l2.append(i)\n",
    "    return l2"
   ]
  },
  {
   "cell_type": "code",
   "execution_count": 11,
   "id": "573fe976-4cba-49f6-839e-8af6ef9aed84",
   "metadata": {},
   "outputs": [
    {
     "data": {
      "text/plain": [
       "[4, 5, 6]"
      ]
     },
     "execution_count": 11,
     "metadata": {},
     "output_type": "execute_result"
    }
   ],
   "source": [
    "test7()\n"
   ]
  },
  {
   "cell_type": "code",
   "execution_count": 18,
   "id": "3be8e01e-a32f-4039-9ae2-54810ff00323",
   "metadata": {},
   "outputs": [],
   "source": [
    "def test11(*args):\n",
    "    return args"
   ]
  },
  {
   "cell_type": "code",
   "execution_count": 17,
   "id": "e1a8fdcc-b72e-4c45-99b4-b078af60ffbd",
   "metadata": {},
   "outputs": [
    {
     "ename": "SyntaxError",
     "evalue": "invalid syntax (1080749613.py, line 1)",
     "output_type": "error",
     "traceback": [
      "\u001b[0;36m  Cell \u001b[0;32mIn[17], line 1\u001b[0;36m\u001b[0m\n\u001b[0;31m    test11(5,2,85,5,\"happy\" , \"sad\"):\u001b[0m\n\u001b[0m                                    ^\u001b[0m\n\u001b[0;31mSyntaxError\u001b[0m\u001b[0;31m:\u001b[0m invalid syntax\n"
     ]
    }
   ],
   "source": [
    "# test11(5,2,85,5,\"happy\" , \"sad\"):\n",
    "    # return args"
   ]
  },
  {
   "cell_type": "code",
   "execution_count": 21,
   "id": "c74aebc3-2597-4a39-8561-853bde3f1996",
   "metadata": {},
   "outputs": [
    {
     "data": {
      "text/plain": [
       "('c', 'happy to seee')"
      ]
     },
     "execution_count": 21,
     "metadata": {},
     "output_type": "execute_result"
    }
   ],
   "source": [
    "test11('c' , \"happy to seee\")"
   ]
  },
  {
   "cell_type": "code",
   "execution_count": 23,
   "id": "4c6cedf8-3cf2-4861-8419-1f9c64d3f50c",
   "metadata": {
    "tags": []
   },
   "outputs": [],
   "source": [
    "def test12(a, b , c , d):\n",
    "    return a, b ,c ,d"
   ]
  },
  {
   "cell_type": "code",
   "execution_count": 30,
   "id": "eaef49ef-dcaf-438d-ac15-5dee30bd6de3",
   "metadata": {},
   "outputs": [
    {
     "ename": "SyntaxError",
     "evalue": "positional argument follows keyword argument (623096441.py, line 1)",
     "output_type": "error",
     "traceback": [
      "\u001b[0;36m  Cell \u001b[0;32mIn[30], line 1\u001b[0;36m\u001b[0m\n\u001b[0;31m    test12(a = 86.4 ,9 , 5, d = (8,2,5))\u001b[0m\n\u001b[0m                                       ^\u001b[0m\n\u001b[0;31mSyntaxError\u001b[0m\u001b[0;31m:\u001b[0m positional argument follows keyword argument\n"
     ]
    }
   ],
   "source": [
    " test12(a = 86.4 ,9 , 5, d = (8,2,5))"
   ]
  },
  {
   "cell_type": "code",
   "execution_count": null,
   "id": "9ba7101c-b0df-4397-abbc-23164550f8f1",
   "metadata": {},
   "outputs": [],
   "source": []
  }
 ],
 "metadata": {
  "kernelspec": {
   "display_name": "Python 3 (ipykernel)",
   "language": "python",
   "name": "python3"
  },
  "language_info": {
   "codemirror_mode": {
    "name": "ipython",
    "version": 3
   },
   "file_extension": ".py",
   "mimetype": "text/x-python",
   "name": "python",
   "nbconvert_exporter": "python",
   "pygments_lexer": "ipython3",
   "version": "3.10.8"
  }
 },
 "nbformat": 4,
 "nbformat_minor": 5
}
