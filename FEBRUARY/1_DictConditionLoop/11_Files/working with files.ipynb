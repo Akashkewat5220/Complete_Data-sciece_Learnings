{
 "cells": [
  {
   "cell_type": "code",
   "execution_count": 1,
   "id": "121953fe-5731-4e12-9550-d6d72b3c1bd7",
   "metadata": {},
   "outputs": [],
   "source": [
    "f = f\n",
    "open(\"test.txt\" , 'w')"
   ]
  },
  {
   "cell_type": "code",
   "execution_count": 2,
   "id": "6ae0af78-d8dd-4349-bb65-705a8b36c342",
   "metadata": {},
   "outputs": [
    {
     "data": {
      "text/plain": [
       "'/home/jovyan/work/February/11_Files'"
      ]
     },
     "execution_count": 2,
     "metadata": {},
     "output_type": "execute_result"
    }
   ],
   "source": [
    "pwd"
   ]
  },
  {
   "cell_type": "code",
   "execution_count": 3,
   "id": "1a8c65f2-9693-4d59-ac7c-86e122e23088",
   "metadata": {},
   "outputs": [
    {
     "name": "stdout",
     "output_type": "stream",
     "text": [
      "test.txt  Untitled.ipynb\n"
     ]
    }
   ],
   "source": [
    "ls"
   ]
  },
  {
   "cell_type": "code",
   "execution_count": 4,
   "id": "c4341a0b-6be8-48d4-a8eb-3453d6fb6c84",
   "metadata": {},
   "outputs": [
    {
     "data": {
      "text/plain": [
       "30"
      ]
     },
     "execution_count": 4,
     "metadata": {},
     "output_type": "execute_result"
    }
   ],
   "source": [
    "f.write(\"This i smy first file to write\")"
   ]
  },
  {
   "cell_type": "code",
   "execution_count": 5,
   "id": "4aa6bc27-d7c1-4760-b634-b1b8accd0209",
   "metadata": {},
   "outputs": [],
   "source": [
    "f.close()"
   ]
  },
  {
   "cell_type": "code",
   "execution_count": 1,
   "id": "38a466bb-54b1-4524-9d5b-ff6f5607b858",
   "metadata": {},
   "outputs": [],
   "source": [
    "f = open(\"practise.txt\" , \"w\")"
   ]
  },
  {
   "cell_type": "code",
   "execution_count": 2,
   "id": "df3eba6e-0445-4544-b5f7-01b4ce17620b",
   "metadata": {},
   "outputs": [
    {
     "data": {
      "text/plain": [
       "'/home/jovyan/work/February/11_Files'"
      ]
     },
     "execution_count": 2,
     "metadata": {},
     "output_type": "execute_result"
    }
   ],
   "source": [
    "pwd"
   ]
  },
  {
   "cell_type": "code",
   "execution_count": 5,
   "id": "dc939a20-8070-498a-9b8f-69d63d06d724",
   "metadata": {},
   "outputs": [
    {
     "data": {
      "text/plain": [
       "100"
      ]
     },
     "execution_count": 5,
     "metadata": {},
     "output_type": "execute_result"
    }
   ],
   "source": [
    "f.write(\"Hey everyone I wanted to be the best coder , my desire is to be in the top 1 precentage of the coder\")"
   ]
  },
  {
   "cell_type": "code",
   "execution_count": 7,
   "id": "b0a1a579-0760-45e3-a8f0-432b8f4656cb",
   "metadata": {},
   "outputs": [],
   "source": [
    "f.close()"
   ]
  },
  {
   "cell_type": "code",
   "execution_count": 17,
   "id": "1c65fb20-7287-4edf-8a9f-f610f6368b66",
   "metadata": {},
   "outputs": [],
   "source": [
    "data = open(\"practise.txt\" , 'r')"
   ]
  },
  {
   "cell_type": "code",
   "execution_count": 20,
   "id": "d4307c60-607d-4777-be9c-8016ff09cf3c",
   "metadata": {},
   "outputs": [
    {
     "data": {
      "text/plain": [
       "'Hey everyone I wanted to be the best coder , my desire is to be in the top 1 precentage of the coder'"
      ]
     },
     "execution_count": 20,
     "metadata": {},
     "output_type": "execute_result"
    }
   ],
   "source": [
    "data.readline()"
   ]
  },
  {
   "cell_type": "code",
   "execution_count": 21,
   "id": "c21261dc-8dd8-4d22-85bd-9e9bb7250c76",
   "metadata": {},
   "outputs": [],
   "source": [
    "data1 = open(\"test.txt\" , 'r')"
   ]
  },
  {
   "cell_type": "code",
   "execution_count": null,
   "id": "fd47b6f3-cb68-4849-bf56-1d40adfa870b",
   "metadata": {},
   "outputs": [],
   "source": []
  }
 ],
 "metadata": {
  "kernelspec": {
   "display_name": "Python 3 (ipykernel)",
   "language": "python",
   "name": "python3"
  },
  "language_info": {
   "codemirror_mode": {
    "name": "ipython",
    "version": 3
   },
   "file_extension": ".py",
   "mimetype": "text/x-python",
   "name": "python",
   "nbconvert_exporter": "python",
   "pygments_lexer": "ipython3",
   "version": "3.10.8"
  }
 },
 "nbformat": 4,
 "nbformat_minor": 5
}
