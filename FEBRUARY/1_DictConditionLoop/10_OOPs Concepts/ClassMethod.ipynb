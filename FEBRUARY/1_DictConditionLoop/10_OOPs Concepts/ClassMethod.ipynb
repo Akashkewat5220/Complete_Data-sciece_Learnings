{
 "cells": [
  {
   "cell_type": "code",
   "execution_count": 3,
   "id": "abf583e0-fec2-42b6-b323-c4a160ed63e1",
   "metadata": {},
   "outputs": [],
   "source": [
    "class pwskills:\n",
    "    \n",
    "    def __init__(self , name , email):\n",
    "        self.name = name\n",
    "        self.email= email\n",
    "        \n",
    "    def student_details(self ):\n",
    "        print(self.name , self.email)"
   ]
  },
  {
   "cell_type": "code",
   "execution_count": 4,
   "id": "7af2902e-3953-491c-b693-2f9fe20bf5e4",
   "metadata": {},
   "outputs": [],
   "source": [
    "pw = pwskills(\"alas\" , \"hari@gamil.com\")"
   ]
  },
  {
   "cell_type": "code",
   "execution_count": 5,
   "id": "5121e191-57e1-4196-aae5-a859af3d4354",
   "metadata": {},
   "outputs": [
    {
     "data": {
      "text/plain": [
       "'alas'"
      ]
     },
     "execution_count": 5,
     "metadata": {},
     "output_type": "execute_result"
    }
   ],
   "source": [
    "pw.name"
   ]
  },
  {
   "cell_type": "code",
   "execution_count": 6,
   "id": "ecb7e965-dfee-4031-8084-a9b765fd7737",
   "metadata": {},
   "outputs": [
    {
     "data": {
      "text/plain": [
       "'hari@gamil.com'"
      ]
     },
     "execution_count": 6,
     "metadata": {},
     "output_type": "execute_result"
    }
   ],
   "source": [
    "pw.email"
   ]
  },
  {
   "cell_type": "code",
   "execution_count": 7,
   "id": "6648e8ca-c0c2-4c22-bfda-495561102e4c",
   "metadata": {},
   "outputs": [
    {
     "name": "stdout",
     "output_type": "stream",
     "text": [
      "alas hari@gamil.com\n"
     ]
    }
   ],
   "source": [
    "pw.student_details()"
   ]
  },
  {
   "cell_type": "code",
   "execution_count": 8,
   "id": "2d944673-addd-477f-a176-6ddfd3a03333",
   "metadata": {},
   "outputs": [],
   "source": [
    "# //we do this in defferent way"
   ]
  },
  {
   "cell_type": "code",
   "execution_count": 10,
   "id": "17a8b598-ac45-4b1f-af22-301b560bbb47",
   "metadata": {},
   "outputs": [],
   "source": [
    "# init overloading"
   ]
  },
  {
   "cell_type": "code",
   "execution_count": 14,
   "id": "c068bcea-3d67-4a08-9697-c1a4d69fe3ec",
   "metadata": {},
   "outputs": [],
   "source": [
    "class pwskills1:\n",
    "    \n",
    "    def __init__(self , name , email):\n",
    "        self.name = name\n",
    "        self.email= email\n",
    "    \n",
    "    @classmethod\n",
    "    def details(cls , name , email):\n",
    "        return cls(name , email)\n",
    "    \n",
    "    def student_details(self ):\n",
    "        print(self.name , self.email)"
   ]
  },
  {
   "cell_type": "code",
   "execution_count": 15,
   "id": "d465acdd-cc12-4894-8ef4-e599eea15ecb",
   "metadata": {},
   "outputs": [],
   "source": [
    "# //bina object ke data pass karunga"
   ]
  },
  {
   "cell_type": "code",
   "execution_count": 17,
   "id": "9710f8cf-5776-46bd-a7e7-137cc1d5eb25",
   "metadata": {},
   "outputs": [],
   "source": [
    "pw1 = pwskills1.details(\"happy\" , \"shy@gmail.com\")"
   ]
  },
  {
   "cell_type": "code",
   "execution_count": 18,
   "id": "42d089ab-7411-476a-bc42-83ee3bfbb00d",
   "metadata": {},
   "outputs": [
    {
     "data": {
      "text/plain": [
       "'happy'"
      ]
     },
     "execution_count": 18,
     "metadata": {},
     "output_type": "execute_result"
    }
   ],
   "source": [
    "pw1.name"
   ]
  },
  {
   "cell_type": "code",
   "execution_count": 21,
   "id": "db79b019-e4f4-40ef-8943-cd77ae4aa3e5",
   "metadata": {},
   "outputs": [],
   "source": [
    "class pwskills2:\n",
    "    \n",
    "    mobile_nums = 8455622855\n",
    "    \n",
    "    def __init__(self , name , email):\n",
    "        self.name = name\n",
    "        self.email= email\n",
    "    \n",
    "    @classmethod\n",
    "    def change_nums(cls , mobile):\n",
    "        pwskills2.mobile_num = mobile\n",
    "    \n",
    "    @classmethod\n",
    "    def details(cls , name , email):\n",
    "        return cls(name , email)\n",
    "    \n",
    "    def student_details(self ):\n",
    "        print(self.name , self.email)"
   ]
  },
  {
   "cell_type": "code",
   "execution_count": 29,
   "id": "b1d69ddf-6b4e-4ae9-b1b7-b64d69414363",
   "metadata": {},
   "outputs": [],
   "source": [
    "pw_obj = pwskills2(\"alas\" , \"@gmail\")"
   ]
  },
  {
   "cell_type": "code",
   "execution_count": 32,
   "id": "e3a06d3c-46a1-474d-988e-85fd97e3b1c0",
   "metadata": {},
   "outputs": [
    {
     "data": {
      "text/plain": [
       "'alas'"
      ]
     },
     "execution_count": 32,
     "metadata": {},
     "output_type": "execute_result"
    }
   ],
   "source": [
    "pw_obj.name"
   ]
  },
  {
   "cell_type": "code",
   "execution_count": 22,
   "id": "fd4dd099-62bf-4f62-86a3-65ef46750c00",
   "metadata": {},
   "outputs": [
    {
     "data": {
      "text/plain": [
       "8455622855"
      ]
     },
     "execution_count": 22,
     "metadata": {},
     "output_type": "execute_result"
    }
   ],
   "source": [
    "pwskills2.mobile_nums"
   ]
  },
  {
   "cell_type": "code",
   "execution_count": 26,
   "id": "c009c1d6-252e-4c13-ab74-6d80436b3dd4",
   "metadata": {},
   "outputs": [],
   "source": [
    "pwskills2.change_nums(72542425424)"
   ]
  },
  {
   "cell_type": "code",
   "execution_count": 27,
   "id": "83f1d269-1b5c-492b-a2af-a8148110ff9f",
   "metadata": {},
   "outputs": [
    {
     "data": {
      "text/plain": [
       "8455622855"
      ]
     },
     "execution_count": 27,
     "metadata": {},
     "output_type": "execute_result"
    }
   ],
   "source": [
    "pwskills2.mobile_nums"
   ]
  },
  {
   "cell_type": "code",
   "execution_count": null,
   "id": "e491ab28-154f-4cf4-a183-c886c90c2efa",
   "metadata": {},
   "outputs": [],
   "source": []
  }
 ],
 "metadata": {
  "kernelspec": {
   "display_name": "Python 3 (ipykernel)",
   "language": "python",
   "name": "python3"
  },
  "language_info": {
   "codemirror_mode": {
    "name": "ipython",
    "version": 3
   },
   "file_extension": ".py",
   "mimetype": "text/x-python",
   "name": "python",
   "nbconvert_exporter": "python",
   "pygments_lexer": "ipython3",
   "version": "3.10.8"
  }
 },
 "nbformat": 4,
 "nbformat_minor": 5
}
