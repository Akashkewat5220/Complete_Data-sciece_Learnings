{
 "cells": [
  {
   "cell_type": "code",
   "execution_count": 4,
   "id": "97c91fa6-58c1-45ce-8e83-f60c7c53ff5a",
   "metadata": {},
   "outputs": [],
   "source": [
    "def test():\n",
    "    print(\"This is the start of my fun\")\n",
    "    print(\"This is my fun to test\")\n",
    "    print(\"This is end of my func\")"
   ]
  },
  {
   "cell_type": "code",
   "execution_count": 5,
   "id": "cfcb4cdf-bd3d-4521-bd57-5d1253e30140",
   "metadata": {},
   "outputs": [
    {
     "name": "stdout",
     "output_type": "stream",
     "text": [
      "This is the start of my fun\n",
      "This is my fun to test\n",
      "This is end of my func\n"
     ]
    }
   ],
   "source": [
    "test()"
   ]
  },
  {
   "cell_type": "code",
   "execution_count": 13,
   "id": "b5b38c86-63fc-441a-9e51-1ea4aaa8a032",
   "metadata": {},
   "outputs": [],
   "source": [
    "def deco(func):\n",
    "    def inner_dec():\n",
    "        print(\"This is the start of my fun\")\n",
    "        func()\n",
    "        print(\"This is end of my func\")\n",
    "    return inner_dec"
   ]
  },
  {
   "cell_type": "code",
   "execution_count": 14,
   "id": "1dc58a92-52be-409e-82f8-37a2a708449a",
   "metadata": {},
   "outputs": [],
   "source": [
    "@deco\n",
    "def test1():\n",
    "    print(6+7)"
   ]
  },
  {
   "cell_type": "code",
   "execution_count": 15,
   "id": "d6409407-6d53-4ac3-879f-ce0997a68521",
   "metadata": {},
   "outputs": [
    {
     "name": "stdout",
     "output_type": "stream",
     "text": [
      "This is the start of my fun\n",
      "13\n",
      "This is end of my func\n"
     ]
    }
   ],
   "source": [
    "test1()"
   ]
  },
  {
   "cell_type": "code",
   "execution_count": 16,
   "id": "5f366f1b-81a3-4bfb-96b9-9afe618ed05e",
   "metadata": {},
   "outputs": [],
   "source": [
    "import time\n",
    "\n",
    "def timer_test(func):\n",
    "    def timer_test_inner():\n",
    "        start= time.time()\n",
    "        func()\n",
    "        end = time.time()\n",
    "        print(end - start)\n",
    "    return timer_test_inner"
   ]
  },
  {
   "cell_type": "code",
   "execution_count": 17,
   "id": "982da088-6fb0-4f63-af7a-a269bd615e87",
   "metadata": {},
   "outputs": [],
   "source": [
    "def test2():\n",
    "    print(45+8)"
   ]
  },
  {
   "cell_type": "code",
   "execution_count": 18,
   "id": "75e57ff0-85eb-4437-8e7a-45d23ffa68c6",
   "metadata": {},
   "outputs": [
    {
     "name": "stdout",
     "output_type": "stream",
     "text": [
      "53\n"
     ]
    }
   ],
   "source": [
    "test2()"
   ]
  },
  {
   "cell_type": "code",
   "execution_count": 19,
   "id": "b1393aad-4e0b-4460-80ed-eb6fa0043865",
   "metadata": {},
   "outputs": [],
   "source": [
    "@timer_test\n",
    "def test2():\n",
    "    print(45+8)"
   ]
  },
  {
   "cell_type": "code",
   "execution_count": 20,
   "id": "d525bc4b-5bec-4617-b961-9afc2333d648",
   "metadata": {},
   "outputs": [
    {
     "name": "stdout",
     "output_type": "stream",
     "text": [
      "53\n",
      "4.57763671875e-05\n"
     ]
    }
   ],
   "source": [
    "test2()"
   ]
  },
  {
   "cell_type": "code",
   "execution_count": null,
   "id": "5bbf6552-50e9-4347-a0ac-96c02dc8c2e0",
   "metadata": {},
   "outputs": [],
   "source": []
  }
 ],
 "metadata": {
  "kernelspec": {
   "display_name": "Python 3 (ipykernel)",
   "language": "python",
   "name": "python3"
  },
  "language_info": {
   "codemirror_mode": {
    "name": "ipython",
    "version": 3
   },
   "file_extension": ".py",
   "mimetype": "text/x-python",
   "name": "python",
   "nbconvert_exporter": "python",
   "pygments_lexer": "ipython3",
   "version": "3.10.8"
  }
 },
 "nbformat": 4,
 "nbformat_minor": 5
}
