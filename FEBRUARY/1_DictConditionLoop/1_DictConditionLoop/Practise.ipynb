{
 "cells": [
  {
   "cell_type": "code",
   "execution_count": 1,
   "id": "32968a9c-4df9-48ba-a6e6-c4f9e9312f1a",
   "metadata": {},
   "outputs": [],
   "source": [
    "d = {}"
   ]
  },
  {
   "cell_type": "code",
   "execution_count": 2,
   "id": "bbcfe47c-c55c-4eb7-ab36-f024123d6c99",
   "metadata": {},
   "outputs": [
    {
     "data": {
      "text/plain": [
       "dict"
      ]
     },
     "execution_count": 2,
     "metadata": {},
     "output_type": "execute_result"
    }
   ],
   "source": [
    "type(d)"
   ]
  },
  {
   "cell_type": "code",
   "execution_count": 3,
   "id": "13fb2014-f42b-4bcc-b713-0233f7e7492a",
   "metadata": {},
   "outputs": [],
   "source": [
    "d1 = {'key' : 'shy'}"
   ]
  },
  {
   "cell_type": "code",
   "execution_count": 4,
   "id": "80139795-9288-4b3b-a518-86953384bb79",
   "metadata": {},
   "outputs": [
    {
     "data": {
      "text/plain": [
       "{'key': 'shy'}"
      ]
     },
     "execution_count": 4,
     "metadata": {},
     "output_type": "execute_result"
    }
   ],
   "source": [
    "d1"
   ]
  },
  {
   "cell_type": "code",
   "execution_count": 5,
   "id": "3e3ba8fc-05ef-4d3b-9aff-85fff59d01c3",
   "metadata": {},
   "outputs": [],
   "source": [
    "d2 = {'email' : 'shy@gmail' , 'name' : 'shy' , 'number' : '52452'}"
   ]
  },
  {
   "cell_type": "code",
   "execution_count": 6,
   "id": "aea8c851-ac07-4423-b959-39719bcaefb0",
   "metadata": {},
   "outputs": [],
   "source": [
    "d3 = {123 : 'alas' , '_var' : 'kumar' , True : 452}"
   ]
  },
  {
   "cell_type": "code",
   "execution_count": 7,
   "id": "820f317d-7c9e-4313-8d76-8bab1000cfdb",
   "metadata": {},
   "outputs": [
    {
     "data": {
      "text/plain": [
       "{123: 'alas', '_var': 'kumar', True: 452}"
      ]
     },
     "execution_count": 7,
     "metadata": {},
     "output_type": "execute_result"
    }
   ],
   "source": [
    "d3"
   ]
  },
  {
   "cell_type": "code",
   "execution_count": 10,
   "id": "6e7a0726-a8fb-42ef-b274-b5c4410586b4",
   "metadata": {},
   "outputs": [
    {
     "data": {
      "text/plain": [
       "452"
      ]
     },
     "execution_count": 10,
     "metadata": {},
     "output_type": "execute_result"
    }
   ],
   "source": [
    "d3[True]"
   ]
  },
  {
   "cell_type": "code",
   "execution_count": 11,
   "id": "08c103ee-ea9b-4e51-bf9e-138b21fa842b",
   "metadata": {},
   "outputs": [
    {
     "data": {
      "text/plain": [
       "452"
      ]
     },
     "execution_count": 11,
     "metadata": {},
     "output_type": "execute_result"
    }
   ],
   "source": [
    "d3[1]"
   ]
  },
  {
   "cell_type": "code",
   "execution_count": 12,
   "id": "34c64ba7-6d68-48ef-8a28-4898d172ad7a",
   "metadata": {},
   "outputs": [],
   "source": [
    "d4 = {'name' : 'alas'  , 'mail_id' : 'me@gmail' , 'name' : 'happy'}"
   ]
  },
  {
   "cell_type": "code",
   "execution_count": 13,
   "id": "561f925d-ca62-4167-b8e0-7c48f463f476",
   "metadata": {},
   "outputs": [
    {
     "data": {
      "text/plain": [
       "{'name': 'happy', 'mail_id': 'me@gmail'}"
      ]
     },
     "execution_count": 13,
     "metadata": {},
     "output_type": "execute_result"
    }
   ],
   "source": [
    "d4"
   ]
  },
  {
   "cell_type": "code",
   "execution_count": 15,
   "id": "ffd0fe57-87f3-4097-9666-539eaa0cccf3",
   "metadata": {},
   "outputs": [
    {
     "data": {
      "text/plain": [
       "'happy'"
      ]
     },
     "execution_count": 15,
     "metadata": {},
     "output_type": "execute_result"
    }
   ],
   "source": [
    "d4['name']"
   ]
  },
  {
   "cell_type": "code",
   "execution_count": 17,
   "id": "68fb20fd-e622-44be-acc9-effb3e476e2f",
   "metadata": {},
   "outputs": [],
   "source": [
    "d5 = {'company' : 'pwskills' , 'course' : ['web_dev' , 'data science' , 'design']}"
   ]
  },
  {
   "cell_type": "code",
   "execution_count": 18,
   "id": "9de73faa-e56f-4e18-a2dd-20afb5e75452",
   "metadata": {},
   "outputs": [
    {
     "data": {
      "text/plain": [
       "{'company': 'pwskills', 'course': ['web_dev', 'data science', 'design']}"
      ]
     },
     "execution_count": 18,
     "metadata": {},
     "output_type": "execute_result"
    }
   ],
   "source": [
    "d5\n"
   ]
  },
  {
   "cell_type": "code",
   "execution_count": 20,
   "id": "e2563d6d-d691-4df3-8710-7b609f27053e",
   "metadata": {},
   "outputs": [
    {
     "data": {
      "text/plain": [
       "'design'"
      ]
     },
     "execution_count": 20,
     "metadata": {},
     "output_type": "execute_result"
    }
   ],
   "source": [
    "d5['course'][2]"
   ]
  },
  {
   "cell_type": "code",
   "execution_count": 21,
   "id": "848c4e9b-4048-430e-875c-0b7a3d707f20",
   "metadata": {},
   "outputs": [
    {
     "data": {
      "text/plain": [
       "'web_dev'"
      ]
     },
     "execution_count": 21,
     "metadata": {},
     "output_type": "execute_result"
    }
   ],
   "source": [
    "d5['course'][0]"
   ]
  },
  {
   "cell_type": "code",
   "execution_count": 24,
   "id": "6eedc81a-6316-4eee-ba4b-4b87601f9e6b",
   "metadata": {},
   "outputs": [],
   "source": [
    "d6 = {'number' : [5,2,6,4,2]  , 'assign' : (5,2,8,2) , 'launch_date' : (8,5,4,1,5) , 'class_time': {\"web_dev\" : 8 , \"Data_science\" : 9}}"
   ]
  },
  {
   "cell_type": "code",
   "execution_count": 25,
   "id": "325cd7aa-092d-4e0e-884a-edc2932221ab",
   "metadata": {},
   "outputs": [
    {
     "data": {
      "text/plain": [
       "{'number': [5, 2, 6, 4, 2],\n",
       " 'assign': (5, 2, 8, 2),\n",
       " 'launch_date': (8, 5, 4, 1, 5),\n",
       " 'class_time': {'web_dev': 8, 'Data_science': 9}}"
      ]
     },
     "execution_count": 25,
     "metadata": {},
     "output_type": "execute_result"
    }
   ],
   "source": [
    "d6"
   ]
  },
  {
   "cell_type": "code",
   "execution_count": 26,
   "id": "1f9cc2cf-e041-4177-b83f-f1f70e6588da",
   "metadata": {},
   "outputs": [
    {
     "data": {
      "text/plain": [
       "{'web_dev': 8, 'Data_science': 9}"
      ]
     },
     "execution_count": 26,
     "metadata": {},
     "output_type": "execute_result"
    }
   ],
   "source": [
    "d6['class_time']"
   ]
  },
  {
   "cell_type": "code",
   "execution_count": 27,
   "id": "07f9e2d8-eb7e-43ee-8351-8958500d1aec",
   "metadata": {},
   "outputs": [],
   "source": [
    "d6['mentor'] = ['satish' , 'surjeet' , 'gabbar']"
   ]
  },
  {
   "cell_type": "code",
   "execution_count": 28,
   "id": "8e14615f-f6b3-4cf1-9681-91bf5a4205c7",
   "metadata": {},
   "outputs": [
    {
     "data": {
      "text/plain": [
       "{'number': [5, 2, 6, 4, 2],\n",
       " 'assign': (5, 2, 8, 2),\n",
       " 'launch_date': (8, 5, 4, 1, 5),\n",
       " 'class_time': {'web_dev': 8, 'Data_science': 9},\n",
       " 'mentor': ['satish', 'surjeet', 'gabbar']}"
      ]
     },
     "execution_count": 28,
     "metadata": {},
     "output_type": "execute_result"
    }
   ],
   "source": [
    "d6"
   ]
  },
  {
   "cell_type": "code",
   "execution_count": 29,
   "id": "83921257-a7c9-4ba5-9497-ce1184dfc440",
   "metadata": {},
   "outputs": [],
   "source": [
    "del d6['mentor']"
   ]
  },
  {
   "cell_type": "code",
   "execution_count": 30,
   "id": "d9135dd1-8727-4f3e-8449-86d78b8d3306",
   "metadata": {},
   "outputs": [
    {
     "data": {
      "text/plain": [
       "{'number': [5, 2, 6, 4, 2],\n",
       " 'assign': (5, 2, 8, 2),\n",
       " 'launch_date': (8, 5, 4, 1, 5),\n",
       " 'class_time': {'web_dev': 8, 'Data_science': 9}}"
      ]
     },
     "execution_count": 30,
     "metadata": {},
     "output_type": "execute_result"
    }
   ],
   "source": [
    "d6"
   ]
  },
  {
   "cell_type": "code",
   "execution_count": 31,
   "id": "c77f3c38-f511-4f6e-8723-71b2053c78b7",
   "metadata": {},
   "outputs": [
    {
     "data": {
      "text/plain": [
       "dict_keys(['number', 'assign', 'launch_date', 'class_time'])"
      ]
     },
     "execution_count": 31,
     "metadata": {},
     "output_type": "execute_result"
    }
   ],
   "source": [
    "d6.keys()"
   ]
  },
  {
   "cell_type": "code",
   "execution_count": 34,
   "id": "c749b5ce-363d-4095-870e-91acec32d473",
   "metadata": {},
   "outputs": [
    {
     "data": {
      "text/plain": [
       "list[dict_values([[5, 2, 6, 4, 2], (5, 2, 8, 2), (8, 5, 4, 1, 5), {'web_dev': 8, 'Data_science': 9}])]"
      ]
     },
     "execution_count": 34,
     "metadata": {},
     "output_type": "execute_result"
    }
   ],
   "source": [
    "list[d6.values()]"
   ]
  },
  {
   "cell_type": "code",
   "execution_count": 35,
   "id": "d1e18ca9-fef5-4a67-b99b-221e2467ade5",
   "metadata": {},
   "outputs": [
    {
     "data": {
      "text/plain": [
       "[('number', [5, 2, 6, 4, 2]),\n",
       " ('assign', (5, 2, 8, 2)),\n",
       " ('launch_date', (8, 5, 4, 1, 5)),\n",
       " ('class_time', {'web_dev': 8, 'Data_science': 9})]"
      ]
     },
     "execution_count": 35,
     "metadata": {},
     "output_type": "execute_result"
    }
   ],
   "source": [
    "list(d6.items())"
   ]
  },
  {
   "cell_type": "code",
   "execution_count": 36,
   "id": "3e9fbd05-91b1-46f8-9d54-3bde42cced47",
   "metadata": {},
   "outputs": [
    {
     "data": {
      "text/plain": [
       "(5, 2, 8, 2)"
      ]
     },
     "execution_count": 36,
     "metadata": {},
     "output_type": "execute_result"
    }
   ],
   "source": [
    "d6.pop('assign')"
   ]
  },
  {
   "cell_type": "code",
   "execution_count": 37,
   "id": "f0bab425-fee2-48fe-b6f5-649e088752a7",
   "metadata": {},
   "outputs": [
    {
     "data": {
      "text/plain": [
       "{'number': [5, 2, 6, 4, 2],\n",
       " 'launch_date': (8, 5, 4, 1, 5),\n",
       " 'class_time': {'web_dev': 8, 'Data_science': 9}}"
      ]
     },
     "execution_count": 37,
     "metadata": {},
     "output_type": "execute_result"
    }
   ],
   "source": [
    "d6"
   ]
  },
  {
   "cell_type": "code",
   "execution_count": 38,
   "id": "3744e6b6-6d91-4fad-b3dd-3ce23b2525af",
   "metadata": {},
   "outputs": [],
   "source": [
    "# control flow statements"
   ]
  },
  {
   "cell_type": "code",
   "execution_count": 2,
   "id": "deb2f4e4-efdf-4741-8a8e-c709af876a35",
   "metadata": {},
   "outputs": [
    {
     "name": "stdin",
     "output_type": "stream",
     "text": [
      "enter your marks 85\n"
     ]
    },
    {
     "name": "stdout",
     "output_type": "stream",
     "text": [
      "Part of A0 batch\n"
     ]
    }
   ],
   "source": [
    "marks = int(input(\"enter your marks\"))\n",
    "if marks >= 80:\n",
    "    print(\"Part of A0 batch\")\n",
    "elif marks >= 60 and marks < 80:\n",
    "    print(\"Part of A1 Batch\")\n",
    "elif marks >= 40 and marks < 60:\n",
    "    print(\"Part of A2 Batch\")\n",
    "else :\n",
    "    print(\"Part of A3 Batch\")"
   ]
  },
  {
   "cell_type": "code",
   "execution_count": 1,
   "id": "5e56b26f-8420-4f2f-8347-c38527c1a870",
   "metadata": {},
   "outputs": [
    {
     "data": {
      "text/plain": [
       "False"
      ]
     },
     "execution_count": 1,
     "metadata": {},
     "output_type": "execute_result"
    }
   ],
   "source": [
    "10>= 822"
   ]
  },
  {
   "cell_type": "code",
   "execution_count": 3,
   "id": "6fd41452-d847-41d0-a47a-4877dc14c1f0",
   "metadata": {},
   "outputs": [],
   "source": [
    "marks = 324\n"
   ]
  },
  {
   "cell_type": "code",
   "execution_count": 4,
   "id": "c6f35441-15b4-46de-b67d-a0204868125f",
   "metadata": {},
   "outputs": [
    {
     "data": {
      "text/plain": [
       "324"
      ]
     },
     "execution_count": 4,
     "metadata": {},
     "output_type": "execute_result"
    }
   ],
   "source": [
    "marks"
   ]
  },
  {
   "cell_type": "code",
   "execution_count": 9,
   "id": "b41fbab4-67bf-4826-8cec-704480e18192",
   "metadata": {},
   "outputs": [
    {
     "name": "stdin",
     "output_type": "stream",
     "text": [
      "Enter the price 1500\n"
     ]
    },
    {
     "name": "stdout",
     "output_type": "stream",
     "text": [
      "I will not purchase\n",
      "its OK\n"
     ]
    }
   ],
   "source": [
    "price = int(input(\"Enter the price\"))\n",
    "if price > 1000:\n",
    "            print(\"I will not purchase\")\n",
    "            if price > 5000:\n",
    "                print(\"price is too high\")\n",
    "            elif price < 2000:\n",
    "                print(\"its OK\")"
   ]
  },
  {
   "cell_type": "code",
   "execution_count": 11,
   "id": "e1956e51-718b-4ef0-8d4e-0db48ce83465",
   "metadata": {},
   "outputs": [],
   "source": [
    "l = [2,4,5,8,6,8,52,2]"
   ]
  },
  {
   "cell_type": "code",
   "execution_count": 13,
   "id": "6b4846f7-71d2-467b-a2e0-aa0ac1621886",
   "metadata": {},
   "outputs": [],
   "source": [
    "l1 = []"
   ]
  },
  {
   "cell_type": "code",
   "execution_count": 14,
   "id": "754a90d3-ad50-4af5-92ed-2257fcddd193",
   "metadata": {},
   "outputs": [],
   "source": [
    "# //loops"
   ]
  },
  {
   "cell_type": "code",
   "execution_count": 16,
   "id": "d93df7b4-5e3c-467d-8148-96042d20f783",
   "metadata": {},
   "outputs": [
    {
     "name": "stdout",
     "output_type": "stream",
     "text": [
      "2\n",
      "4\n",
      "5\n",
      "8\n",
      "6\n",
      "8\n",
      "52\n",
      "2\n"
     ]
    }
   ],
   "source": [
    "for i in l:\n",
    "    print(i)\n",
    "    "
   ]
  },
  {
   "cell_type": "code",
   "execution_count": 17,
   "id": "35372a9a-2a2e-48d0-a3c6-05375c32ec85",
   "metadata": {},
   "outputs": [],
   "source": [
    "l = [\"force\" , \"kumar\" , \"Ringlord\" , \"data\"]"
   ]
  },
  {
   "cell_type": "code",
   "execution_count": 19,
   "id": "479c47f9-d542-4a24-9794-f822eb1c451a",
   "metadata": {},
   "outputs": [
    {
     "name": "stdout",
     "output_type": "stream",
     "text": [
      "force\n",
      "kumar\n",
      "Ringlord\n",
      "data\n"
     ]
    }
   ],
   "source": [
    "for i in l:\n",
    "    print(i)\n",
    "    l1.append(i.upper())"
   ]
  },
  {
   "cell_type": "code",
   "execution_count": 20,
   "id": "8b00d800-aba1-41fe-9c3a-37653601facf",
   "metadata": {},
   "outputs": [
    {
     "data": {
      "text/plain": [
       "['FORCE', 'KUMAR', 'RINGLORD', 'DATA']"
      ]
     },
     "execution_count": 20,
     "metadata": {},
     "output_type": "execute_result"
    }
   ],
   "source": [
    "l1"
   ]
  },
  {
   "cell_type": "code",
   "execution_count": 21,
   "id": "ad4aa467-5fa2-4315-bdd9-cfac50232c2d",
   "metadata": {},
   "outputs": [],
   "source": [
    "l = [4,1,8,5,\"guy\" , \"abc\" , 785,963]"
   ]
  },
  {
   "cell_type": "code",
   "execution_count": 23,
   "id": "1092c2dc-426e-4769-858e-37b0c38882e9",
   "metadata": {},
   "outputs": [],
   "source": [
    "l1_num = []\n",
    "l2_str = []\n",
    "\n",
    "for i in l:\n",
    "    if type(i) == int or type(i) == float :\n",
    "        l1_num.append(i)\n",
    "    else:\n",
    "        l2_str.append(i)"
   ]
  },
  {
   "cell_type": "code",
   "execution_count": 24,
   "id": "0a66ad10-17d5-43da-b6ce-55de47b12f70",
   "metadata": {},
   "outputs": [
    {
     "data": {
      "text/plain": [
       "[4, 1, 8, 5, 785, 963]"
      ]
     },
     "execution_count": 24,
     "metadata": {},
     "output_type": "execute_result"
    }
   ],
   "source": [
    "l1_num"
   ]
  },
  {
   "cell_type": "code",
   "execution_count": 26,
   "id": "39cc8fff-d44b-4320-9f83-b3d5a77a28c8",
   "metadata": {},
   "outputs": [
    {
     "data": {
      "text/plain": [
       "['guy', 'abc']"
      ]
     },
     "execution_count": 26,
     "metadata": {},
     "output_type": "execute_result"
    }
   ],
   "source": [
    "\n",
    "l2_str"
   ]
  },
  {
   "cell_type": "code",
   "execution_count": null,
   "id": "e165f27f-5bc2-41a6-b08b-33215dc63043",
   "metadata": {},
   "outputs": [],
   "source": []
  }
 ],
 "metadata": {
  "kernelspec": {
   "display_name": "Python 3 (ipykernel)",
   "language": "python",
   "name": "python3"
  },
  "language_info": {
   "codemirror_mode": {
    "name": "ipython",
    "version": 3
   },
   "file_extension": ".py",
   "mimetype": "text/x-python",
   "name": "python",
   "nbconvert_exporter": "python",
   "pygments_lexer": "ipython3",
   "version": "3.10.8"
  }
 },
 "nbformat": 4,
 "nbformat_minor": 5
}
