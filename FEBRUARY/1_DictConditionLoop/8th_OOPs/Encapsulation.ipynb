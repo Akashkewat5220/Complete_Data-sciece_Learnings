{
 "cells": [
  {
   "cell_type": "code",
   "execution_count": 1,
   "id": "b38e96f2-9baa-4d5d-a0f1-5a2b9a24e4f4",
   "metadata": {},
   "outputs": [],
   "source": [
    "class test:\n",
    "    \n",
    "    def __init__(self , a , b):\n",
    "        self.a = a \n",
    "        self.b = b"
   ]
  },
  {
   "cell_type": "code",
   "execution_count": 3,
   "id": "03c0c494-1f60-42dd-9e93-97be833d9ca3",
   "metadata": {},
   "outputs": [],
   "source": [
    "t = test(45,8)"
   ]
  },
  {
   "cell_type": "code",
   "execution_count": 4,
   "id": "88db224d-548c-4af2-964b-8980d5abd2c9",
   "metadata": {},
   "outputs": [
    {
     "data": {
      "text/plain": [
       "<__main__.test at 0x7fb1bc5f0d30>"
      ]
     },
     "execution_count": 4,
     "metadata": {},
     "output_type": "execute_result"
    }
   ],
   "source": [
    "t"
   ]
  },
  {
   "cell_type": "code",
   "execution_count": 5,
   "id": "1a172a01-7cfc-4d01-a67c-63894e427ce3",
   "metadata": {},
   "outputs": [
    {
     "data": {
      "text/plain": [
       "45"
      ]
     },
     "execution_count": 5,
     "metadata": {},
     "output_type": "execute_result"
    }
   ],
   "source": [
    "t.a"
   ]
  },
  {
   "cell_type": "code",
   "execution_count": 6,
   "id": "3916a7ec-caf1-4d74-8020-e64a3bb480ac",
   "metadata": {},
   "outputs": [],
   "source": [
    "t.a = 52521"
   ]
  },
  {
   "cell_type": "code",
   "execution_count": 7,
   "id": "4ed41293-bddd-4e98-98ec-31df8616ab2a",
   "metadata": {},
   "outputs": [
    {
     "data": {
      "text/plain": [
       "52521"
      ]
     },
     "execution_count": 7,
     "metadata": {},
     "output_type": "execute_result"
    }
   ],
   "source": [
    "t.a"
   ]
  },
  {
   "cell_type": "code",
   "execution_count": 17,
   "id": "3eb5daac-3618-425a-8b0e-ad46f4eaf5c9",
   "metadata": {},
   "outputs": [],
   "source": [
    "class car :\n",
    "    \n",
    "    def __init__(self , year , make , model , speed) :\n",
    "        self.__year = year\n",
    "        self.__make = make\n",
    "        self.__model = model\n",
    "        self.__speed = 0\n",
    "        \n",
    "    def set_speed(self , speed) :\n",
    "        self.__speed = 0 if speed < 0 else speed\n",
    "        \n",
    "    def get_speed(self ):\n",
    "        return self.__speed"
   ]
  },
  {
   "cell_type": "code",
   "execution_count": 18,
   "id": "cc31c56a-adec-43f5-bacc-ca628ae8d8c1",
   "metadata": {},
   "outputs": [],
   "source": [
    "c = car(2052 ,  \"scorpio\" , \"innova\" , 45)"
   ]
  },
  {
   "cell_type": "code",
   "execution_count": 19,
   "id": "7d858759-47d0-4144-8171-0111a4ecd4dc",
   "metadata": {},
   "outputs": [
    {
     "ename": "AttributeError",
     "evalue": "'car' object has no attribute 'car__year'",
     "output_type": "error",
     "traceback": [
      "\u001b[0;31m---------------------------------------------------------------------------\u001b[0m",
      "\u001b[0;31mAttributeError\u001b[0m                            Traceback (most recent call last)",
      "Cell \u001b[0;32mIn[19], line 1\u001b[0m\n\u001b[0;32m----> 1\u001b[0m \u001b[43mc\u001b[49m\u001b[38;5;241;43m.\u001b[39;49m\u001b[43mcar__year\u001b[49m\n",
      "\u001b[0;31mAttributeError\u001b[0m: 'car' object has no attribute 'car__year'"
     ]
    }
   ],
   "source": [
    "c.car__year"
   ]
  },
  {
   "cell_type": "code",
   "execution_count": 20,
   "id": "6754de63-e49a-453b-b5bf-3fd37c191676",
   "metadata": {},
   "outputs": [
    {
     "data": {
      "text/plain": [
       "2052"
      ]
     },
     "execution_count": 20,
     "metadata": {},
     "output_type": "execute_result"
    }
   ],
   "source": [
    "c._car__year"
   ]
  },
  {
   "cell_type": "code",
   "execution_count": 21,
   "id": "ec82b06a-88e3-45f0-bfe0-18acffc06991",
   "metadata": {},
   "outputs": [],
   "source": [
    "c.set_speed(-54)"
   ]
  },
  {
   "cell_type": "code",
   "execution_count": 22,
   "id": "683ec7f9-519e-4e58-8172-959735bdc550",
   "metadata": {},
   "outputs": [
    {
     "data": {
      "text/plain": [
       "0"
      ]
     },
     "execution_count": 22,
     "metadata": {},
     "output_type": "execute_result"
    }
   ],
   "source": [
    "c.get_speed()"
   ]
  },
  {
   "cell_type": "code",
   "execution_count": 23,
   "id": "277731c7-3c0c-4dd8-964f-4ad728e341fb",
   "metadata": {},
   "outputs": [],
   "source": [
    "c.set_speed(85)"
   ]
  },
  {
   "cell_type": "code",
   "execution_count": 24,
   "id": "cc540fc5-f331-451b-8f0b-98300735707a",
   "metadata": {},
   "outputs": [
    {
     "data": {
      "text/plain": [
       "85"
      ]
     },
     "execution_count": 24,
     "metadata": {},
     "output_type": "execute_result"
    }
   ],
   "source": [
    "c.get_speed()"
   ]
  },
  {
   "cell_type": "code",
   "execution_count": null,
   "id": "12254204-0c0d-4ece-8379-d82746428879",
   "metadata": {},
   "outputs": [],
   "source": [
    "class bank_account : \n",
    "    def __init__(self , balance) : \n",
    "        self.__balanace = balance \n",
    "        \n",
    "    def deposit(self , amount) : \n",
    "        self.__balanace = self.__balanace + amount\n",
    "        \n",
    "    def withdaw(self ,amount) : \n",
    "        if self.__balanace >= amount :\n",
    "            self.__balanace = self.__balanace - amount\n",
    "            return True\n",
    "        else : \n",
    "            return False\n",
    "    \n",
    "    def get_banalnce(self):\n",
    "        return self.__balanace\n",
    "                  "
   ]
  }
 ],
 "metadata": {
  "kernelspec": {
   "display_name": "Python 3 (ipykernel)",
   "language": "python",
   "name": "python3"
  },
  "language_info": {
   "codemirror_mode": {
    "name": "ipython",
    "version": 3
   },
   "file_extension": ".py",
   "mimetype": "text/x-python",
   "name": "python",
   "nbconvert_exporter": "python",
   "pygments_lexer": "ipython3",
   "version": "3.10.8"
  }
 },
 "nbformat": 4,
 "nbformat_minor": 5
}
