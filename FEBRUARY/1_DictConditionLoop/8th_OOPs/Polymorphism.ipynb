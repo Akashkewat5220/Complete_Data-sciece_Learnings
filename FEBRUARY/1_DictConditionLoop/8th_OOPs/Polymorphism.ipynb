{
 "cells": [
  {
   "cell_type": "code",
   "execution_count": 1,
   "id": "ab4ebf8d-2619-48aa-b159-ce514656dd58",
   "metadata": {},
   "outputs": [],
   "source": [
    "def test(a , b):\n",
    "    return a + b     "
   ]
  },
  {
   "cell_type": "code",
   "execution_count": 2,
   "id": "5225911f-8859-45c0-9aaf-91ef8da52887",
   "metadata": {},
   "outputs": [
    {
     "data": {
      "text/plain": [
       "13"
      ]
     },
     "execution_count": 2,
     "metadata": {},
     "output_type": "execute_result"
    }
   ],
   "source": [
    "test(5 , 8)"
   ]
  },
  {
   "cell_type": "code",
   "execution_count": 3,
   "id": "0e1155d5-bd1e-4297-8828-09beee95bc1d",
   "metadata": {},
   "outputs": [
    {
     "data": {
      "text/plain": [
       "11"
      ]
     },
     "execution_count": 3,
     "metadata": {},
     "output_type": "execute_result"
    }
   ],
   "source": [
    "test(b = 9 , a = 2)"
   ]
  },
  {
   "cell_type": "code",
   "execution_count": 5,
   "id": "a2d49cca-c3b7-4bfe-a668-adead07c7d52",
   "metadata": {},
   "outputs": [
    {
     "data": {
      "text/plain": [
       "'happywala'"
      ]
     },
     "execution_count": 5,
     "metadata": {},
     "output_type": "execute_result"
    }
   ],
   "source": [
    "test(\"happy\" , \"wala\")"
   ]
  },
  {
   "cell_type": "code",
   "execution_count": 6,
   "id": "1972a6b9-6388-4172-bf77-16788d8ade65",
   "metadata": {},
   "outputs": [
    {
     "data": {
      "text/plain": [
       "[2, 58, 5, 5, 6, 2]"
      ]
     },
     "execution_count": 6,
     "metadata": {},
     "output_type": "execute_result"
    }
   ],
   "source": [
    "test([2,58,5] , [5,6,2])"
   ]
  },
  {
   "cell_type": "code",
   "execution_count": 7,
   "id": "b4c32c54-2ab3-450f-9c4a-b2c47ddfc85b",
   "metadata": {},
   "outputs": [],
   "source": [
    "class data_science:\n",
    "    \n",
    "    def syllabus():\n",
    "        print(\"complete sylllabyus da\")"
   ]
  },
  {
   "cell_type": "code",
   "execution_count": 8,
   "id": "f0803ef3-a668-4791-9c69-619a0fc5a346",
   "metadata": {},
   "outputs": [],
   "source": [
    "class web:\n",
    "    \n",
    "    def syllabus():\n",
    "        print(\"complete sylllabyus web\")"
   ]
  },
  {
   "cell_type": "code",
   "execution_count": 9,
   "id": "b5790bca-9ca8-4bf5-8e6c-957ec92fceeb",
   "metadata": {},
   "outputs": [],
   "source": [
    "def class_parcer(class_obj):\n",
    "    for i in class_obj:\n",
    "        i.syllabus()"
   ]
  },
  {
   "cell_type": "code",
   "execution_count": 10,
   "id": "9ca96e16-9e76-428c-aa19-ef72efc72421",
   "metadata": {},
   "outputs": [],
   "source": [
    "data_science = data_science()"
   ]
  },
  {
   "cell_type": "code",
   "execution_count": 11,
   "id": "9f481b7e-ec87-4081-b7e9-c3e577ae55fd",
   "metadata": {},
   "outputs": [],
   "source": [
    "web_dev = web()"
   ]
  },
  {
   "cell_type": "code",
   "execution_count": 12,
   "id": "76a31571-ade5-4ae8-89e6-3fe1d6080a3b",
   "metadata": {},
   "outputs": [],
   "source": [
    "class_obj = (data_science , web_dev)"
   ]
  },
  {
   "cell_type": "code",
   "execution_count": 13,
   "id": "08717014-5058-4927-84ba-7c4bd21fd6c3",
   "metadata": {},
   "outputs": [
    {
     "ename": "AttributeError",
     "evalue": "'data_science' object has no attribute 'syllabus'",
     "output_type": "error",
     "traceback": [
      "\u001b[0;31m---------------------------------------------------------------------------\u001b[0m",
      "\u001b[0;31mAttributeError\u001b[0m                            Traceback (most recent call last)",
      "Cell \u001b[0;32mIn[13], line 1\u001b[0m\n\u001b[0;32m----> 1\u001b[0m \u001b[43mclass_parcer\u001b[49m\u001b[43m(\u001b[49m\u001b[43mclass_obj\u001b[49m\u001b[43m)\u001b[49m\n",
      "Cell \u001b[0;32mIn[9], line 3\u001b[0m, in \u001b[0;36mclass_parcer\u001b[0;34m(class_obj)\u001b[0m\n\u001b[1;32m      1\u001b[0m \u001b[38;5;28;01mdef\u001b[39;00m \u001b[38;5;21mclass_parcer\u001b[39m(class_obj):\n\u001b[1;32m      2\u001b[0m     \u001b[38;5;28;01mfor\u001b[39;00m i \u001b[38;5;129;01min\u001b[39;00m class_obj:\n\u001b[0;32m----> 3\u001b[0m         \u001b[43mi\u001b[49m\u001b[38;5;241;43m.\u001b[39;49m\u001b[43msyllabus\u001b[49m()\n",
      "\u001b[0;31mAttributeError\u001b[0m: 'data_science' object has no attribute 'syllabus'"
     ]
    }
   ],
   "source": [
    "class_parcer(class_obj)"
   ]
  },
  {
   "cell_type": "code",
   "execution_count": null,
   "id": "b5e9faf4-e0bf-49a5-8b73-1d7e3d3365c5",
   "metadata": {},
   "outputs": [],
   "source": []
  }
 ],
 "metadata": {
  "kernelspec": {
   "display_name": "Python 3 (ipykernel)",
   "language": "python",
   "name": "python3"
  },
  "language_info": {
   "codemirror_mode": {
    "name": "ipython",
    "version": 3
   },
   "file_extension": ".py",
   "mimetype": "text/x-python",
   "name": "python",
   "nbconvert_exporter": "python",
   "pygments_lexer": "ipython3",
   "version": "3.10.8"
  }
 },
 "nbformat": 4,
 "nbformat_minor": 5
}
