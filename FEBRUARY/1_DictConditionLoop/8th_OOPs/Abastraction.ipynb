{
 "cells": [
  {
   "cell_type": "code",
   "execution_count": 4,
   "id": "44dd7346-6247-4b87-b6d4-db4b1ea02055",
   "metadata": {},
   "outputs": [],
   "source": [
    "import abc\n",
    "class pwskills:\n",
    "    @abc.abstractmethod\n",
    "    def students_detail(self):\n",
    "        pass\n",
    "    @abc.abstractmethod\n",
    "    def student_assign(self):\n",
    "        pass\n",
    "    @abc.abstractmethod\n",
    "    def student_marks(self):\n",
    "        pass"
   ]
  },
  {
   "cell_type": "code",
   "execution_count": 5,
   "id": "4bf235c5-f1da-4755-a713-d9c30d33abcb",
   "metadata": {},
   "outputs": [],
   "source": [
    "class student_details(pwskills):\n",
    "    def student_details(self):\n",
    "        return \"this is student_details method\"\n",
    "    \n",
    "    def student_asssign(self):\n",
    "        return \"this is student_assign method\""
   ]
  },
  {
   "cell_type": "code",
   "execution_count": 6,
   "id": "1a0458dd-e780-4da2-aa3f-c89e27fb615a",
   "metadata": {},
   "outputs": [],
   "source": [
    "class student_marks(pwskills):\n",
    "    \n",
    "    def student_details(self):\n",
    "        return \"this is student_details method\"\n",
    "    \n",
    "    def student_marks(self):\n",
    "        return \"this returns the marks of the students\""
   ]
  },
  {
   "cell_type": "code",
   "execution_count": null,
   "id": "e203d5de-2d2a-4355-bafa-9857453604d4",
   "metadata": {},
   "outputs": [],
   "source": []
  }
 ],
 "metadata": {
  "kernelspec": {
   "display_name": "Python 3 (ipykernel)",
   "language": "python",
   "name": "python3"
  },
  "language_info": {
   "codemirror_mode": {
    "name": "ipython",
    "version": 3
   },
   "file_extension": ".py",
   "mimetype": "text/x-python",
   "name": "python",
   "nbconvert_exporter": "python",
   "pygments_lexer": "ipython3",
   "version": "3.10.8"
  }
 },
 "nbformat": 4,
 "nbformat_minor": 5
}
