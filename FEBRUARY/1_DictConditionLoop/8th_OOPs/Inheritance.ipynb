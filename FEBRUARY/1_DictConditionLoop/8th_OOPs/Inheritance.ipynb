{
 "cells": [
  {
   "cell_type": "code",
   "execution_count": 9,
   "id": "09d4245b-c9eb-4460-abe2-ce67248ce3a4",
   "metadata": {},
   "outputs": [],
   "source": [
    "class parent() :\n",
    "    def test_parent(self):\n",
    "        print(\"This is my parent class\")"
   ]
  },
  {
   "cell_type": "code",
   "execution_count": 10,
   "id": "3e368c0d-e106-4213-b5c8-4b66ae250e07",
   "metadata": {},
   "outputs": [],
   "source": [
    "class child(parent) :\n",
    "    pass"
   ]
  },
  {
   "cell_type": "code",
   "execution_count": 11,
   "id": "a131afb1-2506-458e-97c4-e612cb480808",
   "metadata": {},
   "outputs": [],
   "source": [
    "child_obj = child()"
   ]
  },
  {
   "cell_type": "code",
   "execution_count": 13,
   "id": "4cbf7bbb-561f-4af2-a151-55a123be068f",
   "metadata": {},
   "outputs": [
    {
     "name": "stdout",
     "output_type": "stream",
     "text": [
      "This is my parent class\n"
     ]
    }
   ],
   "source": [
    "child_obj.test_parent()"
   ]
  },
  {
   "cell_type": "code",
   "execution_count": 14,
   "id": "da3e5230-4511-4909-a292-4ac7dfb681d9",
   "metadata": {},
   "outputs": [],
   "source": [
    "class Class1:\n",
    "    def test_class1(self):\n",
    "        print(\"This is my Class1\")\n"
   ]
  },
  {
   "cell_type": "code",
   "execution_count": 15,
   "id": "130af61c-6a1e-43a5-88fb-4162d41049fe",
   "metadata": {},
   "outputs": [],
   "source": [
    "class class2(class1) :\n",
    "    def test_class2(self) :\n",
    "        print(\"This is my class2 \")"
   ]
  },
  {
   "cell_type": "code",
   "execution_count": 27,
   "id": "87c3eae1-a6f1-4fd8-a4be-1e463248b434",
   "metadata": {},
   "outputs": [],
   "source": [
    "class class3(class2) :\n",
    "    def test_class3(self) :\n",
    "        print(\"This is my class3\")"
   ]
  },
  {
   "cell_type": "code",
   "execution_count": 28,
   "id": "f07952b1-2972-4530-a3fa-9bdc3dc10e6b",
   "metadata": {},
   "outputs": [],
   "source": [
    "class3_obj = class3()"
   ]
  },
  {
   "cell_type": "code",
   "execution_count": 31,
   "id": "23bec8ae-a4c0-46ba-9617-98c71f975463",
   "metadata": {},
   "outputs": [
    {
     "name": "stdout",
     "output_type": "stream",
     "text": [
      "This is my class1 \n"
     ]
    }
   ],
   "source": [
    "class3_obj.test_class1()"
   ]
  },
  {
   "cell_type": "code",
   "execution_count": 37,
   "id": "ff44cd4d-9757-44d3-9a79-2c077ff3bc89",
   "metadata": {},
   "outputs": [],
   "source": [
    "class class1 :\n",
    "    def test_class1(self) :\n",
    "        print(\"this is my class 1\")"
   ]
  },
  {
   "cell_type": "code",
   "execution_count": 38,
   "id": "a3d2ff02-932c-4de9-9d07-51f29e2e51d4",
   "metadata": {},
   "outputs": [],
   "source": [
    "class class2 :\n",
    "    def test_class2(self) :\n",
    "        print(\"this is my class 2\")"
   ]
  },
  {
   "cell_type": "code",
   "execution_count": 39,
   "id": "3ccef36d-da25-4077-8a1c-77e8f406451a",
   "metadata": {},
   "outputs": [],
   "source": [
    "class class3(class1 , class2) :\n",
    "    def test_class3(self) :\n",
    "        print(\"this is my class 3\")"
   ]
  },
  {
   "cell_type": "code",
   "execution_count": 40,
   "id": "b2eb7245-dce2-41e7-81db-271150bac01d",
   "metadata": {},
   "outputs": [],
   "source": [
    "class_obj = class3()"
   ]
  },
  {
   "cell_type": "code",
   "execution_count": 42,
   "id": "86d913a0-1c5b-4cf7-a449-0c219addaec7",
   "metadata": {},
   "outputs": [
    {
     "name": "stdout",
     "output_type": "stream",
     "text": [
      "this is my class 1\n"
     ]
    }
   ],
   "source": [
    "class_obj.test_class1()"
   ]
  },
  {
   "cell_type": "code",
   "execution_count": null,
   "id": "2fb566de-e50f-4ff3-9a23-3222ee1b167a",
   "metadata": {},
   "outputs": [],
   "source": []
  }
 ],
 "metadata": {
  "kernelspec": {
   "display_name": "Python 3 (ipykernel)",
   "language": "python",
   "name": "python3"
  },
  "language_info": {
   "codemirror_mode": {
    "name": "ipython",
    "version": 3
   },
   "file_extension": ".py",
   "mimetype": "text/x-python",
   "name": "python",
   "nbconvert_exporter": "python",
   "pygments_lexer": "ipython3",
   "version": "3.10.8"
  }
 },
 "nbformat": 4,
 "nbformat_minor": 5
}
